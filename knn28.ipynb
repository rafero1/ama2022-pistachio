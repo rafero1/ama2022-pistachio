{
 "cells": [
  {
   "cell_type": "code",
   "execution_count": 1,
   "metadata": {},
   "outputs": [],
   "source": [
    "import numpy as np\n",
    "import math\n",
    "import pandas as pd\n",
    "import matplotlib.pyplot as plt\n",
    "from sklearn.model_selection import train_test_split, RandomizedSearchCV, GridSearchCV, KFold, StratifiedKFold\n",
    "from sklearn.neighbors import KNeighborsClassifier\n",
    "from sklearn.metrics import make_scorer, accuracy_score, f1_score, precision_score, recall_score, roc_curve, auc, roc_auc_score, confusion_matrix, plot_confusion_matrix, ConfusionMatrixDisplay, RocCurveDisplay\n",
    "from sklearn.preprocessing import Normalizer, StandardScaler, OneHotEncoder, LabelEncoder\n",
    "from sklearn.pipeline import Pipeline\n",
    "from sklearn.decomposition import PCA"
   ]
  },
  {
   "cell_type": "code",
   "execution_count": 2,
   "metadata": {},
   "outputs": [
    {
     "data": {
      "text/html": [
       "<div>\n",
       "<style scoped>\n",
       "    .dataframe tbody tr th:only-of-type {\n",
       "        vertical-align: middle;\n",
       "    }\n",
       "\n",
       "    .dataframe tbody tr th {\n",
       "        vertical-align: top;\n",
       "    }\n",
       "\n",
       "    .dataframe thead th {\n",
       "        text-align: right;\n",
       "    }\n",
       "</style>\n",
       "<table border=\"1\" class=\"dataframe\">\n",
       "  <thead>\n",
       "    <tr style=\"text-align: right;\">\n",
       "      <th></th>\n",
       "      <th>Area</th>\n",
       "      <th>Perimeter</th>\n",
       "      <th>Major_Axis</th>\n",
       "      <th>Minor_Axis</th>\n",
       "      <th>Eccentricity</th>\n",
       "      <th>Eqdiasq</th>\n",
       "      <th>Solidity</th>\n",
       "      <th>Convex_Area</th>\n",
       "      <th>Extent</th>\n",
       "      <th>Aspect_Ratio</th>\n",
       "      <th>...</th>\n",
       "      <th>StdDev_RR</th>\n",
       "      <th>StdDev_RG</th>\n",
       "      <th>StdDev_RB</th>\n",
       "      <th>Skew_RR</th>\n",
       "      <th>Skew_RG</th>\n",
       "      <th>Skew_RB</th>\n",
       "      <th>Kurtosis_RR</th>\n",
       "      <th>Kurtosis_RG</th>\n",
       "      <th>Kurtosis_RB</th>\n",
       "      <th>Class</th>\n",
       "    </tr>\n",
       "  </thead>\n",
       "  <tbody>\n",
       "    <tr>\n",
       "      <th>0</th>\n",
       "      <td>63391</td>\n",
       "      <td>1568.4050</td>\n",
       "      <td>390.3396</td>\n",
       "      <td>236.7461</td>\n",
       "      <td>0.7951</td>\n",
       "      <td>284.0984</td>\n",
       "      <td>0.8665</td>\n",
       "      <td>73160</td>\n",
       "      <td>0.6394</td>\n",
       "      <td>1.6488</td>\n",
       "      <td>...</td>\n",
       "      <td>17.7206</td>\n",
       "      <td>19.6024</td>\n",
       "      <td>21.1342</td>\n",
       "      <td>0.4581</td>\n",
       "      <td>0.6635</td>\n",
       "      <td>0.7591</td>\n",
       "      <td>2.9692</td>\n",
       "      <td>3.0576</td>\n",
       "      <td>2.9542</td>\n",
       "      <td>Kirmizi_Pistachio</td>\n",
       "    </tr>\n",
       "    <tr>\n",
       "      <th>1</th>\n",
       "      <td>68358</td>\n",
       "      <td>1942.1870</td>\n",
       "      <td>410.8594</td>\n",
       "      <td>234.7525</td>\n",
       "      <td>0.8207</td>\n",
       "      <td>295.0188</td>\n",
       "      <td>0.8765</td>\n",
       "      <td>77991</td>\n",
       "      <td>0.6772</td>\n",
       "      <td>1.7502</td>\n",
       "      <td>...</td>\n",
       "      <td>26.7061</td>\n",
       "      <td>27.2112</td>\n",
       "      <td>25.1035</td>\n",
       "      <td>-0.3847</td>\n",
       "      <td>-0.2713</td>\n",
       "      <td>-0.2927</td>\n",
       "      <td>1.9807</td>\n",
       "      <td>2.1006</td>\n",
       "      <td>2.2152</td>\n",
       "      <td>Kirmizi_Pistachio</td>\n",
       "    </tr>\n",
       "    <tr>\n",
       "      <th>2</th>\n",
       "      <td>73589</td>\n",
       "      <td>1246.5380</td>\n",
       "      <td>452.3630</td>\n",
       "      <td>220.5547</td>\n",
       "      <td>0.8731</td>\n",
       "      <td>306.0987</td>\n",
       "      <td>0.9172</td>\n",
       "      <td>80234</td>\n",
       "      <td>0.7127</td>\n",
       "      <td>2.0510</td>\n",
       "      <td>...</td>\n",
       "      <td>19.0129</td>\n",
       "      <td>20.0703</td>\n",
       "      <td>20.7006</td>\n",
       "      <td>-0.6014</td>\n",
       "      <td>-0.4500</td>\n",
       "      <td>0.2998</td>\n",
       "      <td>3.5420</td>\n",
       "      <td>3.6856</td>\n",
       "      <td>4.1012</td>\n",
       "      <td>Kirmizi_Pistachio</td>\n",
       "    </tr>\n",
       "    <tr>\n",
       "      <th>3</th>\n",
       "      <td>71106</td>\n",
       "      <td>1445.2610</td>\n",
       "      <td>429.5291</td>\n",
       "      <td>216.0765</td>\n",
       "      <td>0.8643</td>\n",
       "      <td>300.8903</td>\n",
       "      <td>0.9589</td>\n",
       "      <td>74153</td>\n",
       "      <td>0.7028</td>\n",
       "      <td>1.9879</td>\n",
       "      <td>...</td>\n",
       "      <td>18.1773</td>\n",
       "      <td>18.7152</td>\n",
       "      <td>29.7883</td>\n",
       "      <td>-0.6943</td>\n",
       "      <td>-0.6278</td>\n",
       "      <td>-0.7798</td>\n",
       "      <td>2.8776</td>\n",
       "      <td>2.8748</td>\n",
       "      <td>2.8953</td>\n",
       "      <td>Kirmizi_Pistachio</td>\n",
       "    </tr>\n",
       "    <tr>\n",
       "      <th>4</th>\n",
       "      <td>80087</td>\n",
       "      <td>1251.5240</td>\n",
       "      <td>469.3783</td>\n",
       "      <td>220.9344</td>\n",
       "      <td>0.8823</td>\n",
       "      <td>319.3273</td>\n",
       "      <td>0.9657</td>\n",
       "      <td>82929</td>\n",
       "      <td>0.7459</td>\n",
       "      <td>2.1245</td>\n",
       "      <td>...</td>\n",
       "      <td>23.4298</td>\n",
       "      <td>24.0878</td>\n",
       "      <td>23.1157</td>\n",
       "      <td>-0.9287</td>\n",
       "      <td>-0.8134</td>\n",
       "      <td>-0.4970</td>\n",
       "      <td>2.9915</td>\n",
       "      <td>2.8813</td>\n",
       "      <td>2.7362</td>\n",
       "      <td>Kirmizi_Pistachio</td>\n",
       "    </tr>\n",
       "    <tr>\n",
       "      <th>...</th>\n",
       "      <td>...</td>\n",
       "      <td>...</td>\n",
       "      <td>...</td>\n",
       "      <td>...</td>\n",
       "      <td>...</td>\n",
       "      <td>...</td>\n",
       "      <td>...</td>\n",
       "      <td>...</td>\n",
       "      <td>...</td>\n",
       "      <td>...</td>\n",
       "      <td>...</td>\n",
       "      <td>...</td>\n",
       "      <td>...</td>\n",
       "      <td>...</td>\n",
       "      <td>...</td>\n",
       "      <td>...</td>\n",
       "      <td>...</td>\n",
       "      <td>...</td>\n",
       "      <td>...</td>\n",
       "      <td>...</td>\n",
       "      <td>...</td>\n",
       "    </tr>\n",
       "    <tr>\n",
       "      <th>2143</th>\n",
       "      <td>85983</td>\n",
       "      <td>1157.1160</td>\n",
       "      <td>444.3447</td>\n",
       "      <td>248.8627</td>\n",
       "      <td>0.8284</td>\n",
       "      <td>330.8730</td>\n",
       "      <td>0.9823</td>\n",
       "      <td>87536</td>\n",
       "      <td>0.6799</td>\n",
       "      <td>1.7855</td>\n",
       "      <td>...</td>\n",
       "      <td>20.8474</td>\n",
       "      <td>20.8118</td>\n",
       "      <td>21.1175</td>\n",
       "      <td>-0.6994</td>\n",
       "      <td>-0.7071</td>\n",
       "      <td>-0.6963</td>\n",
       "      <td>2.8853</td>\n",
       "      <td>2.6599</td>\n",
       "      <td>2.6317</td>\n",
       "      <td>Siirt_Pistachio</td>\n",
       "    </tr>\n",
       "    <tr>\n",
       "      <th>2144</th>\n",
       "      <td>85691</td>\n",
       "      <td>2327.3459</td>\n",
       "      <td>439.8794</td>\n",
       "      <td>278.9297</td>\n",
       "      <td>0.7732</td>\n",
       "      <td>330.3107</td>\n",
       "      <td>0.8886</td>\n",
       "      <td>96439</td>\n",
       "      <td>0.6590</td>\n",
       "      <td>1.5770</td>\n",
       "      <td>...</td>\n",
       "      <td>21.2621</td>\n",
       "      <td>22.5004</td>\n",
       "      <td>21.5821</td>\n",
       "      <td>-0.5567</td>\n",
       "      <td>-0.4968</td>\n",
       "      <td>-0.6597</td>\n",
       "      <td>2.3022</td>\n",
       "      <td>2.2664</td>\n",
       "      <td>2.5161</td>\n",
       "      <td>Siirt_Pistachio</td>\n",
       "    </tr>\n",
       "    <tr>\n",
       "      <th>2145</th>\n",
       "      <td>101136</td>\n",
       "      <td>1255.6190</td>\n",
       "      <td>475.2161</td>\n",
       "      <td>271.3299</td>\n",
       "      <td>0.8210</td>\n",
       "      <td>358.8459</td>\n",
       "      <td>0.9888</td>\n",
       "      <td>102286</td>\n",
       "      <td>0.7584</td>\n",
       "      <td>1.7514</td>\n",
       "      <td>...</td>\n",
       "      <td>21.1262</td>\n",
       "      <td>20.0279</td>\n",
       "      <td>17.4401</td>\n",
       "      <td>-0.9072</td>\n",
       "      <td>-0.8790</td>\n",
       "      <td>-0.4470</td>\n",
       "      <td>3.3112</td>\n",
       "      <td>3.4306</td>\n",
       "      <td>3.0697</td>\n",
       "      <td>Siirt_Pistachio</td>\n",
       "    </tr>\n",
       "    <tr>\n",
       "      <th>2146</th>\n",
       "      <td>97409</td>\n",
       "      <td>1195.2150</td>\n",
       "      <td>452.1823</td>\n",
       "      <td>274.5764</td>\n",
       "      <td>0.7945</td>\n",
       "      <td>352.1718</td>\n",
       "      <td>0.9902</td>\n",
       "      <td>98376</td>\n",
       "      <td>0.7635</td>\n",
       "      <td>1.6468</td>\n",
       "      <td>...</td>\n",
       "      <td>19.3274</td>\n",
       "      <td>19.1782</td>\n",
       "      <td>19.8930</td>\n",
       "      <td>-0.9473</td>\n",
       "      <td>-0.8404</td>\n",
       "      <td>-0.3153</td>\n",
       "      <td>3.4237</td>\n",
       "      <td>2.9606</td>\n",
       "      <td>3.0033</td>\n",
       "      <td>Siirt_Pistachio</td>\n",
       "    </tr>\n",
       "    <tr>\n",
       "      <th>2147</th>\n",
       "      <td>78466</td>\n",
       "      <td>2356.9080</td>\n",
       "      <td>445.9131</td>\n",
       "      <td>258.5125</td>\n",
       "      <td>0.8148</td>\n",
       "      <td>316.0791</td>\n",
       "      <td>0.8662</td>\n",
       "      <td>90591</td>\n",
       "      <td>0.6123</td>\n",
       "      <td>1.7249</td>\n",
       "      <td>...</td>\n",
       "      <td>24.5451</td>\n",
       "      <td>25.9279</td>\n",
       "      <td>24.4214</td>\n",
       "      <td>-0.7993</td>\n",
       "      <td>-0.5962</td>\n",
       "      <td>-0.3492</td>\n",
       "      <td>2.5278</td>\n",
       "      <td>2.2248</td>\n",
       "      <td>2.4480</td>\n",
       "      <td>Siirt_Pistachio</td>\n",
       "    </tr>\n",
       "  </tbody>\n",
       "</table>\n",
       "<p>2148 rows × 29 columns</p>\n",
       "</div>"
      ],
      "text/plain": [
       "        Area  Perimeter  Major_Axis  Minor_Axis  Eccentricity   Eqdiasq  \\\n",
       "0      63391  1568.4050    390.3396    236.7461        0.7951  284.0984   \n",
       "1      68358  1942.1870    410.8594    234.7525        0.8207  295.0188   \n",
       "2      73589  1246.5380    452.3630    220.5547        0.8731  306.0987   \n",
       "3      71106  1445.2610    429.5291    216.0765        0.8643  300.8903   \n",
       "4      80087  1251.5240    469.3783    220.9344        0.8823  319.3273   \n",
       "...      ...        ...         ...         ...           ...       ...   \n",
       "2143   85983  1157.1160    444.3447    248.8627        0.8284  330.8730   \n",
       "2144   85691  2327.3459    439.8794    278.9297        0.7732  330.3107   \n",
       "2145  101136  1255.6190    475.2161    271.3299        0.8210  358.8459   \n",
       "2146   97409  1195.2150    452.1823    274.5764        0.7945  352.1718   \n",
       "2147   78466  2356.9080    445.9131    258.5125        0.8148  316.0791   \n",
       "\n",
       "      Solidity  Convex_Area  Extent  Aspect_Ratio  ...  StdDev_RR  StdDev_RG  \\\n",
       "0       0.8665        73160  0.6394        1.6488  ...    17.7206    19.6024   \n",
       "1       0.8765        77991  0.6772        1.7502  ...    26.7061    27.2112   \n",
       "2       0.9172        80234  0.7127        2.0510  ...    19.0129    20.0703   \n",
       "3       0.9589        74153  0.7028        1.9879  ...    18.1773    18.7152   \n",
       "4       0.9657        82929  0.7459        2.1245  ...    23.4298    24.0878   \n",
       "...        ...          ...     ...           ...  ...        ...        ...   \n",
       "2143    0.9823        87536  0.6799        1.7855  ...    20.8474    20.8118   \n",
       "2144    0.8886        96439  0.6590        1.5770  ...    21.2621    22.5004   \n",
       "2145    0.9888       102286  0.7584        1.7514  ...    21.1262    20.0279   \n",
       "2146    0.9902        98376  0.7635        1.6468  ...    19.3274    19.1782   \n",
       "2147    0.8662        90591  0.6123        1.7249  ...    24.5451    25.9279   \n",
       "\n",
       "      StdDev_RB  Skew_RR  Skew_RG  Skew_RB  Kurtosis_RR  Kurtosis_RG  \\\n",
       "0       21.1342   0.4581   0.6635   0.7591       2.9692       3.0576   \n",
       "1       25.1035  -0.3847  -0.2713  -0.2927       1.9807       2.1006   \n",
       "2       20.7006  -0.6014  -0.4500   0.2998       3.5420       3.6856   \n",
       "3       29.7883  -0.6943  -0.6278  -0.7798       2.8776       2.8748   \n",
       "4       23.1157  -0.9287  -0.8134  -0.4970       2.9915       2.8813   \n",
       "...         ...      ...      ...      ...          ...          ...   \n",
       "2143    21.1175  -0.6994  -0.7071  -0.6963       2.8853       2.6599   \n",
       "2144    21.5821  -0.5567  -0.4968  -0.6597       2.3022       2.2664   \n",
       "2145    17.4401  -0.9072  -0.8790  -0.4470       3.3112       3.4306   \n",
       "2146    19.8930  -0.9473  -0.8404  -0.3153       3.4237       2.9606   \n",
       "2147    24.4214  -0.7993  -0.5962  -0.3492       2.5278       2.2248   \n",
       "\n",
       "      Kurtosis_RB              Class  \n",
       "0          2.9542  Kirmizi_Pistachio  \n",
       "1          2.2152  Kirmizi_Pistachio  \n",
       "2          4.1012  Kirmizi_Pistachio  \n",
       "3          2.8953  Kirmizi_Pistachio  \n",
       "4          2.7362  Kirmizi_Pistachio  \n",
       "...           ...                ...  \n",
       "2143       2.6317    Siirt_Pistachio  \n",
       "2144       2.5161    Siirt_Pistachio  \n",
       "2145       3.0697    Siirt_Pistachio  \n",
       "2146       3.0033    Siirt_Pistachio  \n",
       "2147       2.4480    Siirt_Pistachio  \n",
       "\n",
       "[2148 rows x 29 columns]"
      ]
     },
     "execution_count": 2,
     "metadata": {},
     "output_type": "execute_result"
    }
   ],
   "source": [
    "data16 = pd.read_excel('./Pistachio_28_Features_Dataset/Pistachio_28_Features_Dataset.xls')\n",
    "data16"
   ]
  },
  {
   "cell_type": "code",
   "execution_count": 3,
   "metadata": {},
   "outputs": [
    {
     "name": "stdout",
     "output_type": "stream",
     "text": [
      "<class 'pandas.core.frame.DataFrame'>\n",
      "RangeIndex: 2148 entries, 0 to 2147\n",
      "Data columns (total 29 columns):\n",
      " #   Column         Non-Null Count  Dtype  \n",
      "---  ------         --------------  -----  \n",
      " 0   Area           2148 non-null   int64  \n",
      " 1   Perimeter      2148 non-null   float64\n",
      " 2   Major_Axis     2148 non-null   float64\n",
      " 3   Minor_Axis     2148 non-null   float64\n",
      " 4   Eccentricity   2148 non-null   float64\n",
      " 5   Eqdiasq        2148 non-null   float64\n",
      " 6   Solidity       2148 non-null   float64\n",
      " 7   Convex_Area    2148 non-null   int64  \n",
      " 8   Extent         2148 non-null   float64\n",
      " 9   Aspect_Ratio   2148 non-null   float64\n",
      " 10  Roundness      2148 non-null   float64\n",
      " 11  Compactness    2148 non-null   float64\n",
      " 12  Shapefactor_1  2148 non-null   float64\n",
      " 13  Shapefactor_2  2148 non-null   float64\n",
      " 14  Shapefactor_3  2148 non-null   float64\n",
      " 15  Shapefactor_4  2148 non-null   float64\n",
      " 16  Mean_RR        2148 non-null   float64\n",
      " 17  Mean_RG        2148 non-null   float64\n",
      " 18  Mean_RB        2148 non-null   float64\n",
      " 19  StdDev_RR      2148 non-null   float64\n",
      " 20  StdDev_RG      2148 non-null   float64\n",
      " 21  StdDev_RB      2148 non-null   float64\n",
      " 22  Skew_RR        2148 non-null   float64\n",
      " 23  Skew_RG        2148 non-null   float64\n",
      " 24  Skew_RB        2148 non-null   float64\n",
      " 25  Kurtosis_RR    2148 non-null   float64\n",
      " 26  Kurtosis_RG    2148 non-null   float64\n",
      " 27  Kurtosis_RB    2148 non-null   float64\n",
      " 28  Class          2148 non-null   object \n",
      "dtypes: float64(26), int64(2), object(1)\n",
      "memory usage: 486.8+ KB\n"
     ]
    }
   ],
   "source": [
    "data16.info()"
   ]
  },
  {
   "cell_type": "code",
   "execution_count": 4,
   "metadata": {},
   "outputs": [
    {
     "data": {
      "text/plain": [
       "Kirmizi_Pistachio    1232\n",
       "Siirt_Pistachio       916\n",
       "Name: Class, dtype: int64"
      ]
     },
     "execution_count": 4,
     "metadata": {},
     "output_type": "execute_result"
    }
   ],
   "source": [
    "data16['Class'].value_counts()"
   ]
  },
  {
   "cell_type": "code",
   "execution_count": 5,
   "metadata": {},
   "outputs": [],
   "source": [
    "labels = ['Kirmizi_Pistachio', 'Siit_Pistachio']\n",
    "one_hot_encode = lambda x: 0 if x == 'Kirmizi_Pistachio' else 1\n",
    "one_hot_encode_revert = lambda x: labels[x]"
   ]
  },
  {
   "cell_type": "code",
   "execution_count": 6,
   "metadata": {},
   "outputs": [],
   "source": [
    "X = data16.drop('Class', axis=1)\n",
    "y = data16['Class']\n",
    "y = y.apply(one_hot_encode)\n",
    "X_train, X_test, y_train, y_test = train_test_split(X, y, stratify=y, test_size=0.2, random_state=123)"
   ]
  },
  {
   "cell_type": "code",
   "execution_count": 7,
   "metadata": {},
   "outputs": [],
   "source": [
    "scaler = StandardScaler()\n",
    "pca = PCA()\n",
    "knn = KNeighborsClassifier()\n",
    "pipe = Pipeline(steps=[('scaler', scaler), ('pca', pca), ('knn', knn)])"
   ]
  },
  {
   "cell_type": "code",
   "execution_count": 8,
   "metadata": {},
   "outputs": [
    {
     "name": "stdout",
     "output_type": "stream",
     "text": [
      "dataset sample count: 2148\n",
      "square root: 46\n"
     ]
    }
   ],
   "source": [
    "count_sqrt = math.floor(np.sqrt(X.shape[0]))\n",
    "print('dataset sample count: %i' % X.shape[0])\n",
    "print('square root: %i' % count_sqrt)"
   ]
  },
  {
   "cell_type": "markdown",
   "metadata": {},
   "source": [
    "## Grid Search"
   ]
  },
  {
   "cell_type": "code",
   "execution_count": 9,
   "metadata": {},
   "outputs": [
    {
     "data": {
      "text/plain": [
       "GridSearchCV(cv=10,\n",
       "             estimator=Pipeline(steps=[('scaler', StandardScaler()),\n",
       "                                       ('pca', PCA()),\n",
       "                                       ('knn', KNeighborsClassifier())]),\n",
       "             param_grid={'knn__metric': ['euclidean', 'minkowski', 'manhattan'],\n",
       "                         'knn__n_neighbors': array([ 3,  5,  7,  9, 11, 13, 15, 17, 19, 21, 23, 25, 27, 29, 31, 33, 35,\n",
       "       37, 39, 41, 43, 45]),\n",
       "                         'pca__n_components': [5, 10, 15, 28]},\n",
       "             refit='accuracy',\n",
       "             scoring=['accuracy', 'precision', 'recall', 'f1', 'roc_auc'],\n",
       "             verbose=1)"
      ]
     },
     "execution_count": 9,
     "metadata": {},
     "output_type": "execute_result"
    }
   ],
   "source": [
    "params = {\n",
    "    'pca__n_components': [5, 10, 15, X.shape[1]],\n",
    "    'knn__n_neighbors': np.arange(3, count_sqrt + 1, 2),\n",
    "    'knn__metric': ['euclidean', 'minkowski', 'manhattan'],\n",
    "    # 'knn__metric': ['euclidean', 'minkowski', 'manhattan', 'mahalanobis']\n",
    "}\n",
    "\n",
    "scoring = ['accuracy', 'precision', 'recall', 'f1', 'roc_auc']\n",
    "\n",
    "grid = GridSearchCV(pipe, params, cv=10, scoring=scoring, refit='accuracy', return_train_score=False, verbose=1)\n",
    "grid"
   ]
  },
  {
   "cell_type": "code",
   "execution_count": 10,
   "metadata": {},
   "outputs": [
    {
     "name": "stdout",
     "output_type": "stream",
     "text": [
      "Fitting 10 folds for each of 264 candidates, totalling 2640 fits\n"
     ]
    },
    {
     "data": {
      "text/plain": [
       "GridSearchCV(cv=10,\n",
       "             estimator=Pipeline(steps=[('scaler', StandardScaler()),\n",
       "                                       ('pca', PCA()),\n",
       "                                       ('knn', KNeighborsClassifier())]),\n",
       "             param_grid={'knn__metric': ['euclidean', 'minkowski', 'manhattan'],\n",
       "                         'knn__n_neighbors': array([ 3,  5,  7,  9, 11, 13, 15, 17, 19, 21, 23, 25, 27, 29, 31, 33, 35,\n",
       "       37, 39, 41, 43, 45]),\n",
       "                         'pca__n_components': [5, 10, 15, 28]},\n",
       "             refit='accuracy',\n",
       "             scoring=['accuracy', 'precision', 'recall', 'f1', 'roc_auc'],\n",
       "             verbose=1)"
      ]
     },
     "execution_count": 10,
     "metadata": {},
     "output_type": "execute_result"
    }
   ],
   "source": [
    "grid.fit(X_train, y_train)"
   ]
  },
  {
   "cell_type": "code",
   "execution_count": 11,
   "metadata": {},
   "outputs": [
    {
     "data": {
      "text/plain": [
       "{'knn__metric': 'manhattan', 'knn__n_neighbors': 15, 'pca__n_components': 15}"
      ]
     },
     "execution_count": 11,
     "metadata": {},
     "output_type": "execute_result"
    }
   ],
   "source": [
    "grid.best_params_"
   ]
  },
  {
   "cell_type": "code",
   "execution_count": 12,
   "metadata": {},
   "outputs": [
    {
     "name": "stdout",
     "output_type": "stream",
     "text": [
      "---- GridSearchCV set stats:\n",
      "Kirmizi_Pistachio: 985 datapoints\n",
      "Siit_Pistachio: 733 datapoints\n"
     ]
    }
   ],
   "source": [
    "print(\"---- GridSearchCV set stats:\")\n",
    "for label, amount in zip(labels, np.bincount(y_train)):\n",
    "    print(\"%s: %i datapoints\" % (label, amount))"
   ]
  },
  {
   "cell_type": "code",
   "execution_count": 13,
   "metadata": {},
   "outputs": [
    {
     "data": {
      "image/png": "[encoded data removed]",
      "text/plain": [
       "<Figure size 432x288 with 2 Axes>"
      ]
     },
     "metadata": {
      "needs_background": "light"
     },
     "output_type": "display_data"
    }
   ],
   "source": [
    "plot_confusion_matrix(grid, X_train, y_train, display_labels=labels)  \n",
    "plt.show()"
   ]
  },
  {
   "cell_type": "markdown",
   "metadata": {},
   "source": [
    "## Test"
   ]
  },
  {
   "cell_type": "code",
   "execution_count": 14,
   "metadata": {},
   "outputs": [
    {
     "name": "stdout",
     "output_type": "stream",
     "text": [
      "---- test set stats:\n",
      "Kirmizi_Pistachio: 247 datapoints\n",
      "Siit_Pistachio: 183 datapoints\n"
     ]
    }
   ],
   "source": [
    "print(\"---- test set stats:\")\n",
    "for label, amount in zip(labels, np.bincount(y_test)):\n",
    "    print(\"%s: %i datapoints\" % (label, amount))"
   ]
  },
  {
   "cell_type": "code",
   "execution_count": 15,
   "metadata": {},
   "outputs": [
    {
     "name": "stdout",
     "output_type": "stream",
     "text": [
      "---- 16-feature dataset test results\n",
      "Grid Search CV (10 folds) + PCA found the following hyperparameters:\n",
      "knn__metric: manhattan\n",
      "knn__n_neighbors: 15\n",
      "pca__n_components: 15\n",
      "\n",
      "\n",
      "---- test metrics:\n",
      "   accuracy  f1_score  precision    recall\n",
      "0  0.890698  0.868347   0.890805  0.846995\n"
     ]
    },
    {
     "data": {
      "image/png": "[encoded data removed]",
      "text/plain": [
       "<Figure size 432x288 with 2 Axes>"
      ]
     },
     "metadata": {
      "needs_background": "light"
     },
     "output_type": "display_data"
    },
    {
     "data": {
      "image/png": "[encoded data removed]",
      "text/plain": [
       "<Figure size 432x288 with 1 Axes>"
      ]
     },
     "metadata": {
      "needs_background": "light"
     },
     "output_type": "display_data"
    }
   ],
   "source": [
    "y_pred = grid.predict(X_test)\n",
    "\n",
    "test_metrics = pd.DataFrame({\n",
    "    \"accuracy\": [accuracy_score(y_test, y_pred)],\n",
    "    \"f1_score\": [f1_score(y_test, y_pred)],\n",
    "    \"precision\": [precision_score(y_test, y_pred)],\n",
    "    \"recall\": [recall_score(y_test, y_pred)],\n",
    "})\n",
    "\n",
    "print(\"---- 16-feature dataset test results\")\n",
    "print(\"Grid Search CV (10 folds) + PCA found the following hyperparameters:\")\n",
    "print(\"\\n\".join([\"%s: %s\" % (param, value) for param, value in grid.best_params_.items()]))\n",
    "print(\"\\n\")\n",
    "print(\"---- test metrics:\")\n",
    "print(test_metrics)\n",
    "\n",
    "cm = confusion_matrix(y_test, y_pred, labels=grid.classes_)\n",
    "display = ConfusionMatrixDisplay(confusion_matrix=cm, display_labels=labels)\n",
    "display.plot()\n",
    "plt.show()\n",
    "\n",
    "fpr, tpr, thresholds = roc_curve(y_test, y_pred)\n",
    "roc_auc = auc(fpr, tpr)\n",
    "display = RocCurveDisplay(fpr=fpr, tpr=tpr, roc_auc=roc_auc, estimator_name='KNN')\n",
    "display.plot()\n",
    "plt.show()"
   ]
  }
 ],
 "metadata": {
  "interpreter": {
   "hash": "77ab0bf75426114283fafc7207ca0245f7de4738c2866fb9aad708a7843cc047"
  },
  "kernelspec": {
   "display_name": "Python 3.9.7 ('base')",
   "language": "python",
   "name": "python3"
  },
  "language_info": {
   "codemirror_mode": {
    "name": "ipython",
    "version": 3
   },
   "file_extension": ".py",
   "mimetype": "text/x-python",
   "name": "python",
   "nbconvert_exporter": "python",
   "pygments_lexer": "ipython3",
   "version": "3.9.7"
  },
  "orig_nbformat": 4
 },
 "nbformat": 4,
 "nbformat_minor": 2
}
