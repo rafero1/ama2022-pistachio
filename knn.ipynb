{
 "cells": [
  {
   "cell_type": "code",
   "execution_count": 105,
   "metadata": {},
   "outputs": [],
   "source": [
    "import numpy as np\n",
    "import math\n",
    "import pandas as pd\n",
    "import matplotlib.pyplot as plt\n",
    "from sklearn.model_selection import train_test_split, GridSearchCV\n",
    "from sklearn.neighbors import KNeighborsClassifier\n",
    "from sklearn.metrics import make_scorer, accuracy_score, f1_score, precision_score, recall_score, roc_curve, auc, roc_auc_score, confusion_matrix, plot_confusion_matrix, ConfusionMatrixDisplay, RocCurveDisplay\n",
    "from sklearn.preprocessing import Normalizer, StandardScaler, OneHotEncoder, LabelEncoder\n",
    "from sklearn.pipeline import Pipeline\n",
    "from sklearn.decomposition import PCA"
   ]
  },
  {
   "cell_type": "code",
   "execution_count": 79,
   "metadata": {},
   "outputs": [
    {
     "data": {
      "text/html": [
       "<div>\n",
       "<style scoped>\n",
       "    .dataframe tbody tr th:only-of-type {\n",
       "        vertical-align: middle;\n",
       "    }\n",
       "\n",
       "    .dataframe tbody tr th {\n",
       "        vertical-align: top;\n",
       "    }\n",
       "\n",
       "    .dataframe thead th {\n",
       "        text-align: right;\n",
       "    }\n",
       "</style>\n",
       "<table border=\"1\" class=\"dataframe\">\n",
       "  <thead>\n",
       "    <tr style=\"text-align: right;\">\n",
       "      <th></th>\n",
       "      <th>AREA</th>\n",
       "      <th>PERIMETER</th>\n",
       "      <th>MAJOR_AXIS</th>\n",
       "      <th>MINOR_AXIS</th>\n",
       "      <th>ECCENTRICITY</th>\n",
       "      <th>EQDIASQ</th>\n",
       "      <th>SOLIDITY</th>\n",
       "      <th>CONVEX_AREA</th>\n",
       "      <th>EXTENT</th>\n",
       "      <th>ASPECT_RATIO</th>\n",
       "      <th>ROUNDNESS</th>\n",
       "      <th>COMPACTNESS</th>\n",
       "      <th>SHAPEFACTOR_1</th>\n",
       "      <th>SHAPEFACTOR_2</th>\n",
       "      <th>SHAPEFACTOR_3</th>\n",
       "      <th>SHAPEFACTOR_4</th>\n",
       "      <th>Class</th>\n",
       "    </tr>\n",
       "  </thead>\n",
       "  <tbody>\n",
       "    <tr>\n",
       "      <th>0</th>\n",
       "      <td>63391</td>\n",
       "      <td>1568.4050</td>\n",
       "      <td>390.3396</td>\n",
       "      <td>236.7461</td>\n",
       "      <td>0.7951</td>\n",
       "      <td>284.0984</td>\n",
       "      <td>0.8665</td>\n",
       "      <td>73160</td>\n",
       "      <td>0.6394</td>\n",
       "      <td>1.6488</td>\n",
       "      <td>0.3238</td>\n",
       "      <td>0.7278</td>\n",
       "      <td>0.0062</td>\n",
       "      <td>0.0037</td>\n",
       "      <td>0.5297</td>\n",
       "      <td>0.8734</td>\n",
       "      <td>Kirmizi_Pistachio</td>\n",
       "    </tr>\n",
       "    <tr>\n",
       "      <th>1</th>\n",
       "      <td>68358</td>\n",
       "      <td>1942.1870</td>\n",
       "      <td>410.8594</td>\n",
       "      <td>234.7525</td>\n",
       "      <td>0.8207</td>\n",
       "      <td>295.0188</td>\n",
       "      <td>0.8765</td>\n",
       "      <td>77991</td>\n",
       "      <td>0.6772</td>\n",
       "      <td>1.7502</td>\n",
       "      <td>0.2277</td>\n",
       "      <td>0.7181</td>\n",
       "      <td>0.0060</td>\n",
       "      <td>0.0034</td>\n",
       "      <td>0.5156</td>\n",
       "      <td>0.9024</td>\n",
       "      <td>Kirmizi_Pistachio</td>\n",
       "    </tr>\n",
       "    <tr>\n",
       "      <th>2</th>\n",
       "      <td>73589</td>\n",
       "      <td>1246.5380</td>\n",
       "      <td>452.3630</td>\n",
       "      <td>220.5547</td>\n",
       "      <td>0.8731</td>\n",
       "      <td>306.0987</td>\n",
       "      <td>0.9172</td>\n",
       "      <td>80234</td>\n",
       "      <td>0.7127</td>\n",
       "      <td>2.0510</td>\n",
       "      <td>0.5951</td>\n",
       "      <td>0.6767</td>\n",
       "      <td>0.0061</td>\n",
       "      <td>0.0030</td>\n",
       "      <td>0.4579</td>\n",
       "      <td>0.9391</td>\n",
       "      <td>Kirmizi_Pistachio</td>\n",
       "    </tr>\n",
       "    <tr>\n",
       "      <th>3</th>\n",
       "      <td>71106</td>\n",
       "      <td>1445.2610</td>\n",
       "      <td>429.5291</td>\n",
       "      <td>216.0765</td>\n",
       "      <td>0.8643</td>\n",
       "      <td>300.8903</td>\n",
       "      <td>0.9589</td>\n",
       "      <td>74153</td>\n",
       "      <td>0.7028</td>\n",
       "      <td>1.9879</td>\n",
       "      <td>0.4278</td>\n",
       "      <td>0.7005</td>\n",
       "      <td>0.0060</td>\n",
       "      <td>0.0030</td>\n",
       "      <td>0.4907</td>\n",
       "      <td>0.9755</td>\n",
       "      <td>Kirmizi_Pistachio</td>\n",
       "    </tr>\n",
       "    <tr>\n",
       "      <th>4</th>\n",
       "      <td>80087</td>\n",
       "      <td>1251.5240</td>\n",
       "      <td>469.3783</td>\n",
       "      <td>220.9344</td>\n",
       "      <td>0.8823</td>\n",
       "      <td>319.3273</td>\n",
       "      <td>0.9657</td>\n",
       "      <td>82929</td>\n",
       "      <td>0.7459</td>\n",
       "      <td>2.1245</td>\n",
       "      <td>0.6425</td>\n",
       "      <td>0.6803</td>\n",
       "      <td>0.0059</td>\n",
       "      <td>0.0028</td>\n",
       "      <td>0.4628</td>\n",
       "      <td>0.9833</td>\n",
       "      <td>Kirmizi_Pistachio</td>\n",
       "    </tr>\n",
       "    <tr>\n",
       "      <th>...</th>\n",
       "      <td>...</td>\n",
       "      <td>...</td>\n",
       "      <td>...</td>\n",
       "      <td>...</td>\n",
       "      <td>...</td>\n",
       "      <td>...</td>\n",
       "      <td>...</td>\n",
       "      <td>...</td>\n",
       "      <td>...</td>\n",
       "      <td>...</td>\n",
       "      <td>...</td>\n",
       "      <td>...</td>\n",
       "      <td>...</td>\n",
       "      <td>...</td>\n",
       "      <td>...</td>\n",
       "      <td>...</td>\n",
       "      <td>...</td>\n",
       "    </tr>\n",
       "    <tr>\n",
       "      <th>2143</th>\n",
       "      <td>85983</td>\n",
       "      <td>1157.1160</td>\n",
       "      <td>444.3447</td>\n",
       "      <td>248.8627</td>\n",
       "      <td>0.8284</td>\n",
       "      <td>330.8730</td>\n",
       "      <td>0.9823</td>\n",
       "      <td>87536</td>\n",
       "      <td>0.6799</td>\n",
       "      <td>1.7855</td>\n",
       "      <td>0.8070</td>\n",
       "      <td>0.7446</td>\n",
       "      <td>0.0052</td>\n",
       "      <td>0.0029</td>\n",
       "      <td>0.5545</td>\n",
       "      <td>0.9900</td>\n",
       "      <td>Siit_Pistachio</td>\n",
       "    </tr>\n",
       "    <tr>\n",
       "      <th>2144</th>\n",
       "      <td>85691</td>\n",
       "      <td>2327.3459</td>\n",
       "      <td>439.8794</td>\n",
       "      <td>278.9297</td>\n",
       "      <td>0.7732</td>\n",
       "      <td>330.3107</td>\n",
       "      <td>0.8886</td>\n",
       "      <td>96439</td>\n",
       "      <td>0.6590</td>\n",
       "      <td>1.5770</td>\n",
       "      <td>0.1988</td>\n",
       "      <td>0.7509</td>\n",
       "      <td>0.0051</td>\n",
       "      <td>0.0033</td>\n",
       "      <td>0.5639</td>\n",
       "      <td>0.8892</td>\n",
       "      <td>Siit_Pistachio</td>\n",
       "    </tr>\n",
       "    <tr>\n",
       "      <th>2145</th>\n",
       "      <td>101136</td>\n",
       "      <td>1255.6190</td>\n",
       "      <td>475.2161</td>\n",
       "      <td>271.3299</td>\n",
       "      <td>0.8210</td>\n",
       "      <td>358.8459</td>\n",
       "      <td>0.9888</td>\n",
       "      <td>102286</td>\n",
       "      <td>0.7584</td>\n",
       "      <td>1.7514</td>\n",
       "      <td>0.8061</td>\n",
       "      <td>0.7551</td>\n",
       "      <td>0.0047</td>\n",
       "      <td>0.0027</td>\n",
       "      <td>0.5702</td>\n",
       "      <td>0.9987</td>\n",
       "      <td>Siit_Pistachio</td>\n",
       "    </tr>\n",
       "    <tr>\n",
       "      <th>2146</th>\n",
       "      <td>97409</td>\n",
       "      <td>1195.2150</td>\n",
       "      <td>452.1823</td>\n",
       "      <td>274.5764</td>\n",
       "      <td>0.7945</td>\n",
       "      <td>352.1718</td>\n",
       "      <td>0.9902</td>\n",
       "      <td>98376</td>\n",
       "      <td>0.7635</td>\n",
       "      <td>1.6468</td>\n",
       "      <td>0.8569</td>\n",
       "      <td>0.7788</td>\n",
       "      <td>0.0046</td>\n",
       "      <td>0.0028</td>\n",
       "      <td>0.6066</td>\n",
       "      <td>0.9989</td>\n",
       "      <td>Siit_Pistachio</td>\n",
       "    </tr>\n",
       "    <tr>\n",
       "      <th>2147</th>\n",
       "      <td>78466</td>\n",
       "      <td>2356.9080</td>\n",
       "      <td>445.9131</td>\n",
       "      <td>258.5125</td>\n",
       "      <td>0.8148</td>\n",
       "      <td>316.0791</td>\n",
       "      <td>0.8662</td>\n",
       "      <td>90591</td>\n",
       "      <td>0.6123</td>\n",
       "      <td>1.7249</td>\n",
       "      <td>0.1775</td>\n",
       "      <td>0.7088</td>\n",
       "      <td>0.0057</td>\n",
       "      <td>0.0033</td>\n",
       "      <td>0.5024</td>\n",
       "      <td>0.8667</td>\n",
       "      <td>Siit_Pistachio</td>\n",
       "    </tr>\n",
       "  </tbody>\n",
       "</table>\n",
       "<p>2148 rows × 17 columns</p>\n",
       "</div>"
      ],
      "text/plain": [
       "        AREA  PERIMETER  MAJOR_AXIS  MINOR_AXIS  ECCENTRICITY   EQDIASQ  \\\n",
       "0      63391  1568.4050    390.3396    236.7461        0.7951  284.0984   \n",
       "1      68358  1942.1870    410.8594    234.7525        0.8207  295.0188   \n",
       "2      73589  1246.5380    452.3630    220.5547        0.8731  306.0987   \n",
       "3      71106  1445.2610    429.5291    216.0765        0.8643  300.8903   \n",
       "4      80087  1251.5240    469.3783    220.9344        0.8823  319.3273   \n",
       "...      ...        ...         ...         ...           ...       ...   \n",
       "2143   85983  1157.1160    444.3447    248.8627        0.8284  330.8730   \n",
       "2144   85691  2327.3459    439.8794    278.9297        0.7732  330.3107   \n",
       "2145  101136  1255.6190    475.2161    271.3299        0.8210  358.8459   \n",
       "2146   97409  1195.2150    452.1823    274.5764        0.7945  352.1718   \n",
       "2147   78466  2356.9080    445.9131    258.5125        0.8148  316.0791   \n",
       "\n",
       "      SOLIDITY  CONVEX_AREA  EXTENT  ASPECT_RATIO  ROUNDNESS  COMPACTNESS  \\\n",
       "0       0.8665        73160  0.6394        1.6488     0.3238       0.7278   \n",
       "1       0.8765        77991  0.6772        1.7502     0.2277       0.7181   \n",
       "2       0.9172        80234  0.7127        2.0510     0.5951       0.6767   \n",
       "3       0.9589        74153  0.7028        1.9879     0.4278       0.7005   \n",
       "4       0.9657        82929  0.7459        2.1245     0.6425       0.6803   \n",
       "...        ...          ...     ...           ...        ...          ...   \n",
       "2143    0.9823        87536  0.6799        1.7855     0.8070       0.7446   \n",
       "2144    0.8886        96439  0.6590        1.5770     0.1988       0.7509   \n",
       "2145    0.9888       102286  0.7584        1.7514     0.8061       0.7551   \n",
       "2146    0.9902        98376  0.7635        1.6468     0.8569       0.7788   \n",
       "2147    0.8662        90591  0.6123        1.7249     0.1775       0.7088   \n",
       "\n",
       "      SHAPEFACTOR_1  SHAPEFACTOR_2  SHAPEFACTOR_3  SHAPEFACTOR_4  \\\n",
       "0            0.0062         0.0037         0.5297         0.8734   \n",
       "1            0.0060         0.0034         0.5156         0.9024   \n",
       "2            0.0061         0.0030         0.4579         0.9391   \n",
       "3            0.0060         0.0030         0.4907         0.9755   \n",
       "4            0.0059         0.0028         0.4628         0.9833   \n",
       "...             ...            ...            ...            ...   \n",
       "2143         0.0052         0.0029         0.5545         0.9900   \n",
       "2144         0.0051         0.0033         0.5639         0.8892   \n",
       "2145         0.0047         0.0027         0.5702         0.9987   \n",
       "2146         0.0046         0.0028         0.6066         0.9989   \n",
       "2147         0.0057         0.0033         0.5024         0.8667   \n",
       "\n",
       "                  Class  \n",
       "0     Kirmizi_Pistachio  \n",
       "1     Kirmizi_Pistachio  \n",
       "2     Kirmizi_Pistachio  \n",
       "3     Kirmizi_Pistachio  \n",
       "4     Kirmizi_Pistachio  \n",
       "...                 ...  \n",
       "2143     Siit_Pistachio  \n",
       "2144     Siit_Pistachio  \n",
       "2145     Siit_Pistachio  \n",
       "2146     Siit_Pistachio  \n",
       "2147     Siit_Pistachio  \n",
       "\n",
       "[2148 rows x 17 columns]"
      ]
     },
     "execution_count": 79,
     "metadata": {},
     "output_type": "execute_result"
    }
   ],
   "source": [
    "data16 = pd.read_excel('./Pistachio_16_Features_Dataset/Pistachio_16_Features_Dataset.xls')\n",
    "data16"
   ]
  },
  {
   "cell_type": "code",
   "execution_count": 80,
   "metadata": {},
   "outputs": [],
   "source": [
    "X = data16.drop('Class', axis=1)\n",
    "y = data16['Class']\n",
    "y = y.apply(lambda x: 0 if x == 'Kirmizi_Pistachio' else 1)\n",
    "X_train, X_test, y_train, y_test = train_test_split(X, y, stratify=y, test_size=0.2, random_state=123)"
   ]
  },
  {
   "cell_type": "code",
   "execution_count": 81,
   "metadata": {},
   "outputs": [],
   "source": [
    "scaler = StandardScaler()\n",
    "pca = PCA()\n",
    "label = LabelEncoder()\n",
    "knn = KNeighborsClassifier()\n",
    "pipe = Pipeline(steps=[('scaler', scaler), ('pca', pca), ('knn', knn)])"
   ]
  },
  {
   "cell_type": "markdown",
   "metadata": {},
   "source": [
    "## Grid Search"
   ]
  },
  {
   "cell_type": "code",
   "execution_count": 82,
   "metadata": {},
   "outputs": [
    {
     "name": "stdout",
     "output_type": "stream",
     "text": [
      "Fitting 10 folds for each of 240 candidates, totalling 2400 fits\n"
     ]
    },
    {
     "data": {
      "text/plain": [
       "GridSearchCV(cv=10,\n",
       "             estimator=Pipeline(steps=[('scaler', StandardScaler()),\n",
       "                                       ('pca', PCA()),\n",
       "                                       ('knn', KNeighborsClassifier())]),\n",
       "             param_grid={'knn__metric': ['euclidean', 'minkowski', 'manhattan'],\n",
       "                         'knn__n_neighbors': array([ 1,  2,  3,  4,  5,  6,  7,  8,  9, 10, 11, 12, 13, 14, 15, 16, 17,\n",
       "       18, 19, 20]),\n",
       "                         'pca__n_components': [5, 10, 15, 16]},\n",
       "             refit='accuracy', return_train_score=True,\n",
       "             scoring=['accuracy', 'precision', 'recall', 'f1', 'roc_auc'],\n",
       "             verbose=1)"
      ]
     },
     "execution_count": 82,
     "metadata": {},
     "output_type": "execute_result"
    }
   ],
   "source": [
    "params = {\n",
    "    'pca__n_components': [5, 10, 15, X.shape[1]],\n",
    "    'knn__n_neighbors': np.arange(1, 21),\n",
    "    'knn__metric': ['euclidean', 'minkowski', 'manhattan'],\n",
    "    # 'knn__metric': ['euclidean', 'minkowski', 'manhattan', 'mahalanobis']\n",
    "}\n",
    "scoring = ['accuracy', 'precision', 'recall', 'f1', 'roc_auc']\n",
    "grid = GridSearchCV(pipe, params, cv=10, scoring=scoring, refit='accuracy', return_train_score=True, verbose=1)\n",
    "grid.fit(X_train, y_train)"
   ]
  },
  {
   "cell_type": "code",
   "execution_count": 83,
   "metadata": {},
   "outputs": [
    {
     "data": {
      "text/plain": [
       "{'knn__metric': 'manhattan', 'knn__n_neighbors': 13, 'pca__n_components': 15}"
      ]
     },
     "execution_count": 83,
     "metadata": {},
     "output_type": "execute_result"
    }
   ],
   "source": [
    "grid.best_params_"
   ]
  },
  {
   "cell_type": "code",
   "execution_count": 109,
   "metadata": {},
   "outputs": [
    {
     "data": {
      "text/plain": [
       "masked_array(data=[5, 10, 15, 16, 5, 10, 15, 16, 5, 10, 15, 16, 5, 10, 15,\n",
       "                   16, 5, 10, 15, 16, 5, 10, 15, 16, 5, 10, 15, 16, 5, 10,\n",
       "                   15, 16, 5, 10, 15, 16, 5, 10, 15, 16, 5, 10, 15, 16, 5,\n",
       "                   10, 15, 16, 5, 10, 15, 16, 5, 10, 15, 16, 5, 10, 15,\n",
       "                   16, 5, 10, 15, 16, 5, 10, 15, 16, 5, 10, 15, 16, 5, 10,\n",
       "                   15, 16, 5, 10, 15, 16, 5, 10, 15, 16, 5, 10, 15, 16, 5,\n",
       "                   10, 15, 16, 5, 10, 15, 16, 5, 10, 15, 16, 5, 10, 15,\n",
       "                   16, 5, 10, 15, 16, 5, 10, 15, 16, 5, 10, 15, 16, 5, 10,\n",
       "                   15, 16, 5, 10, 15, 16, 5, 10, 15, 16, 5, 10, 15, 16, 5,\n",
       "                   10, 15, 16, 5, 10, 15, 16, 5, 10, 15, 16, 5, 10, 15,\n",
       "                   16, 5, 10, 15, 16, 5, 10, 15, 16, 5, 10, 15, 16, 5, 10,\n",
       "                   15, 16, 5, 10, 15, 16, 5, 10, 15, 16, 5, 10, 15, 16, 5,\n",
       "                   10, 15, 16, 5, 10, 15, 16, 5, 10, 15, 16, 5, 10, 15,\n",
       "                   16, 5, 10, 15, 16, 5, 10, 15, 16, 5, 10, 15, 16, 5, 10,\n",
       "                   15, 16, 5, 10, 15, 16, 5, 10, 15, 16, 5, 10, 15, 16, 5,\n",
       "                   10, 15, 16, 5, 10, 15, 16, 5, 10, 15, 16, 5, 10, 15,\n",
       "                   16, 5, 10, 15, 16],\n",
       "             mask=[False, False, False, False, False, False, False, False,\n",
       "                   False, False, False, False, False, False, False, False,\n",
       "                   False, False, False, False, False, False, False, False,\n",
       "                   False, False, False, False, False, False, False, False,\n",
       "                   False, False, False, False, False, False, False, False,\n",
       "                   False, False, False, False, False, False, False, False,\n",
       "                   False, False, False, False, False, False, False, False,\n",
       "                   False, False, False, False, False, False, False, False,\n",
       "                   False, False, False, False, False, False, False, False,\n",
       "                   False, False, False, False, False, False, False, False,\n",
       "                   False, False, False, False, False, False, False, False,\n",
       "                   False, False, False, False, False, False, False, False,\n",
       "                   False, False, False, False, False, False, False, False,\n",
       "                   False, False, False, False, False, False, False, False,\n",
       "                   False, False, False, False, False, False, False, False,\n",
       "                   False, False, False, False, False, False, False, False,\n",
       "                   False, False, False, False, False, False, False, False,\n",
       "                   False, False, False, False, False, False, False, False,\n",
       "                   False, False, False, False, False, False, False, False,\n",
       "                   False, False, False, False, False, False, False, False,\n",
       "                   False, False, False, False, False, False, False, False,\n",
       "                   False, False, False, False, False, False, False, False,\n",
       "                   False, False, False, False, False, False, False, False,\n",
       "                   False, False, False, False, False, False, False, False,\n",
       "                   False, False, False, False, False, False, False, False,\n",
       "                   False, False, False, False, False, False, False, False,\n",
       "                   False, False, False, False, False, False, False, False,\n",
       "                   False, False, False, False, False, False, False, False,\n",
       "                   False, False, False, False, False, False, False, False,\n",
       "                   False, False, False, False, False, False, False, False],\n",
       "       fill_value='?',\n",
       "            dtype=object)"
      ]
     },
     "execution_count": 109,
     "metadata": {},
     "output_type": "execute_result"
    }
   ],
   "source": [
    "grid.cv_results_[\"param_pca__n_components\"]"
   ]
  },
  {
   "cell_type": "code",
   "execution_count": 112,
   "metadata": {},
   "outputs": [
    {
     "data": {
      "image/png": "[encoded data removed]",
      "text/plain": [
       "<Figure size 432x288 with 2 Axes>"
      ]
     },
     "metadata": {
      "needs_background": "light"
     },
     "output_type": "display_data"
    }
   ],
   "source": [
    "plot_confusion_matrix(grid, X_train, y_train)  \n",
    "plt.show()"
   ]
  },
  {
   "cell_type": "markdown",
   "metadata": {},
   "source": [
    "## Test"
   ]
  },
  {
   "cell_type": "code",
   "execution_count": 113,
   "metadata": {},
   "outputs": [
    {
     "name": "stdout",
     "output_type": "stream",
     "text": [
      "---- 16-feature dataset test results\n",
      "{'knn__metric': 'manhattan', 'knn__n_neighbors': 13, 'pca__n_components': 15}\n",
      "accuracy: 0.8767441860465116\n",
      "f1_score: 0.8515406162464986\n",
      "precision: 0.8735632183908046\n",
      "recall: 0.8306010928961749\n"
     ]
    },
    {
     "data": {
      "image/png": "[encoded data removed]",
      "text/plain": [
       "<Figure size 432x288 with 2 Axes>"
      ]
     },
     "metadata": {
      "needs_background": "light"
     },
     "output_type": "display_data"
    },
    {
     "data": {
      "image/png": "[encoded data removed]",
      "text/plain": [
       "<Figure size 432x288 with 1 Axes>"
      ]
     },
     "metadata": {
      "needs_background": "light"
     },
     "output_type": "display_data"
    }
   ],
   "source": [
    "y_pred = grid.predict(X_test)\n",
    "\n",
    "print(\"---- 16-feature dataset test results\")\n",
    "print(grid.best_params_)\n",
    "print(\"accuracy:\", accuracy_score(y_test, y_pred))\n",
    "print(\"f1_score:\", f1_score(y_test, y_pred))\n",
    "print(\"precision:\", precision_score(y_test, y_pred))\n",
    "print(\"recall:\", recall_score(y_test, y_pred))\n",
    "\n",
    "cm = confusion_matrix(y_test, y_pred, labels=grid.classes_)\n",
    "display = ConfusionMatrixDisplay(confusion_matrix=cm, display_labels=grid.classes_)\n",
    "display.plot()\n",
    "plt.show()\n",
    "\n",
    "fpr, tpr, thresholds = roc_curve(y_test, y_pred)\n",
    "roc_auc = auc(fpr, tpr)\n",
    "display = RocCurveDisplay(fpr=fpr, tpr=tpr, roc_auc=roc_auc, estimator_name='KNN')\n",
    "display.plot()\n",
    "plt.show()"
   ]
  }
 ],
 "metadata": {
  "interpreter": {
   "hash": "77ab0bf75426114283fafc7207ca0245f7de4738c2866fb9aad708a7843cc047"
  },
  "kernelspec": {
   "display_name": "Python 3.9.7 ('base')",
   "language": "python",
   "name": "python3"
  },
  "language_info": {
   "codemirror_mode": {
    "name": "ipython",
    "version": 3
   },
   "file_extension": ".py",
   "mimetype": "text/x-python",
   "name": "python",
   "nbconvert_exporter": "python",
   "pygments_lexer": "ipython3",
   "version": "3.9.7"
  },
  "orig_nbformat": 4
 },
 "nbformat": 4,
 "nbformat_minor": 2
}
