{
 "cells": [
  {
   "cell_type": "code",
   "execution_count": 2,
   "metadata": {},
   "outputs": [],
   "source": [
    "import numpy as np\n",
    "import math\n",
    "import pandas as pd\n",
    "import matplotlib.pyplot as plt\n",
    "import seaborn as sns\n",
    "from sklearn.model_selection import train_test_split, RandomizedSearchCV, GridSearchCV, KFold, StratifiedKFold\n",
    "from sklearn.neighbors import KNeighborsClassifier\n",
    "from sklearn.metrics import make_scorer, accuracy_score, f1_score, precision_score, recall_score, roc_curve, auc, roc_auc_score, confusion_matrix, plot_confusion_matrix, ConfusionMatrixDisplay, RocCurveDisplay\n",
    "from sklearn.preprocessing import Normalizer, StandardScaler, RobustScaler, MinMaxScaler, OneHotEncoder, LabelEncoder\n",
    "from sklearn.pipeline import Pipeline\n",
    "from sklearn.decomposition import PCA"
   ]
  },
  {
   "cell_type": "code",
   "execution_count": 3,
   "metadata": {},
   "outputs": [
    {
     "data": {
      "text/html": [
       "<div>\n",
       "<style scoped>\n",
       "    .dataframe tbody tr th:only-of-type {\n",
       "        vertical-align: middle;\n",
       "    }\n",
       "\n",
       "    .dataframe tbody tr th {\n",
       "        vertical-align: top;\n",
       "    }\n",
       "\n",
       "    .dataframe thead th {\n",
       "        text-align: right;\n",
       "    }\n",
       "</style>\n",
       "<table border=\"1\" class=\"dataframe\">\n",
       "  <thead>\n",
       "    <tr style=\"text-align: right;\">\n",
       "      <th></th>\n",
       "      <th>AREA</th>\n",
       "      <th>PERIMETER</th>\n",
       "      <th>MAJOR_AXIS</th>\n",
       "      <th>MINOR_AXIS</th>\n",
       "      <th>ECCENTRICITY</th>\n",
       "      <th>EQDIASQ</th>\n",
       "      <th>SOLIDITY</th>\n",
       "      <th>CONVEX_AREA</th>\n",
       "      <th>EXTENT</th>\n",
       "      <th>ASPECT_RATIO</th>\n",
       "      <th>ROUNDNESS</th>\n",
       "      <th>COMPACTNESS</th>\n",
       "      <th>SHAPEFACTOR_1</th>\n",
       "      <th>SHAPEFACTOR_2</th>\n",
       "      <th>SHAPEFACTOR_3</th>\n",
       "      <th>SHAPEFACTOR_4</th>\n",
       "      <th>Class</th>\n",
       "    </tr>\n",
       "  </thead>\n",
       "  <tbody>\n",
       "    <tr>\n",
       "      <th>0</th>\n",
       "      <td>63391</td>\n",
       "      <td>1568.4050</td>\n",
       "      <td>390.3396</td>\n",
       "      <td>236.7461</td>\n",
       "      <td>0.7951</td>\n",
       "      <td>284.0984</td>\n",
       "      <td>0.8665</td>\n",
       "      <td>73160</td>\n",
       "      <td>0.6394</td>\n",
       "      <td>1.6488</td>\n",
       "      <td>0.3238</td>\n",
       "      <td>0.7278</td>\n",
       "      <td>0.0062</td>\n",
       "      <td>0.0037</td>\n",
       "      <td>0.5297</td>\n",
       "      <td>0.8734</td>\n",
       "      <td>Kirmizi_Pistachio</td>\n",
       "    </tr>\n",
       "    <tr>\n",
       "      <th>1</th>\n",
       "      <td>68358</td>\n",
       "      <td>1942.1870</td>\n",
       "      <td>410.8594</td>\n",
       "      <td>234.7525</td>\n",
       "      <td>0.8207</td>\n",
       "      <td>295.0188</td>\n",
       "      <td>0.8765</td>\n",
       "      <td>77991</td>\n",
       "      <td>0.6772</td>\n",
       "      <td>1.7502</td>\n",
       "      <td>0.2277</td>\n",
       "      <td>0.7181</td>\n",
       "      <td>0.0060</td>\n",
       "      <td>0.0034</td>\n",
       "      <td>0.5156</td>\n",
       "      <td>0.9024</td>\n",
       "      <td>Kirmizi_Pistachio</td>\n",
       "    </tr>\n",
       "    <tr>\n",
       "      <th>2</th>\n",
       "      <td>73589</td>\n",
       "      <td>1246.5380</td>\n",
       "      <td>452.3630</td>\n",
       "      <td>220.5547</td>\n",
       "      <td>0.8731</td>\n",
       "      <td>306.0987</td>\n",
       "      <td>0.9172</td>\n",
       "      <td>80234</td>\n",
       "      <td>0.7127</td>\n",
       "      <td>2.0510</td>\n",
       "      <td>0.5951</td>\n",
       "      <td>0.6767</td>\n",
       "      <td>0.0061</td>\n",
       "      <td>0.0030</td>\n",
       "      <td>0.4579</td>\n",
       "      <td>0.9391</td>\n",
       "      <td>Kirmizi_Pistachio</td>\n",
       "    </tr>\n",
       "    <tr>\n",
       "      <th>3</th>\n",
       "      <td>71106</td>\n",
       "      <td>1445.2610</td>\n",
       "      <td>429.5291</td>\n",
       "      <td>216.0765</td>\n",
       "      <td>0.8643</td>\n",
       "      <td>300.8903</td>\n",
       "      <td>0.9589</td>\n",
       "      <td>74153</td>\n",
       "      <td>0.7028</td>\n",
       "      <td>1.9879</td>\n",
       "      <td>0.4278</td>\n",
       "      <td>0.7005</td>\n",
       "      <td>0.0060</td>\n",
       "      <td>0.0030</td>\n",
       "      <td>0.4907</td>\n",
       "      <td>0.9755</td>\n",
       "      <td>Kirmizi_Pistachio</td>\n",
       "    </tr>\n",
       "    <tr>\n",
       "      <th>4</th>\n",
       "      <td>80087</td>\n",
       "      <td>1251.5240</td>\n",
       "      <td>469.3783</td>\n",
       "      <td>220.9344</td>\n",
       "      <td>0.8823</td>\n",
       "      <td>319.3273</td>\n",
       "      <td>0.9657</td>\n",
       "      <td>82929</td>\n",
       "      <td>0.7459</td>\n",
       "      <td>2.1245</td>\n",
       "      <td>0.6425</td>\n",
       "      <td>0.6803</td>\n",
       "      <td>0.0059</td>\n",
       "      <td>0.0028</td>\n",
       "      <td>0.4628</td>\n",
       "      <td>0.9833</td>\n",
       "      <td>Kirmizi_Pistachio</td>\n",
       "    </tr>\n",
       "    <tr>\n",
       "      <th>...</th>\n",
       "      <td>...</td>\n",
       "      <td>...</td>\n",
       "      <td>...</td>\n",
       "      <td>...</td>\n",
       "      <td>...</td>\n",
       "      <td>...</td>\n",
       "      <td>...</td>\n",
       "      <td>...</td>\n",
       "      <td>...</td>\n",
       "      <td>...</td>\n",
       "      <td>...</td>\n",
       "      <td>...</td>\n",
       "      <td>...</td>\n",
       "      <td>...</td>\n",
       "      <td>...</td>\n",
       "      <td>...</td>\n",
       "      <td>...</td>\n",
       "    </tr>\n",
       "    <tr>\n",
       "      <th>2143</th>\n",
       "      <td>85983</td>\n",
       "      <td>1157.1160</td>\n",
       "      <td>444.3447</td>\n",
       "      <td>248.8627</td>\n",
       "      <td>0.8284</td>\n",
       "      <td>330.8730</td>\n",
       "      <td>0.9823</td>\n",
       "      <td>87536</td>\n",
       "      <td>0.6799</td>\n",
       "      <td>1.7855</td>\n",
       "      <td>0.8070</td>\n",
       "      <td>0.7446</td>\n",
       "      <td>0.0052</td>\n",
       "      <td>0.0029</td>\n",
       "      <td>0.5545</td>\n",
       "      <td>0.9900</td>\n",
       "      <td>Siit_Pistachio</td>\n",
       "    </tr>\n",
       "    <tr>\n",
       "      <th>2144</th>\n",
       "      <td>85691</td>\n",
       "      <td>2327.3459</td>\n",
       "      <td>439.8794</td>\n",
       "      <td>278.9297</td>\n",
       "      <td>0.7732</td>\n",
       "      <td>330.3107</td>\n",
       "      <td>0.8886</td>\n",
       "      <td>96439</td>\n",
       "      <td>0.6590</td>\n",
       "      <td>1.5770</td>\n",
       "      <td>0.1988</td>\n",
       "      <td>0.7509</td>\n",
       "      <td>0.0051</td>\n",
       "      <td>0.0033</td>\n",
       "      <td>0.5639</td>\n",
       "      <td>0.8892</td>\n",
       "      <td>Siit_Pistachio</td>\n",
       "    </tr>\n",
       "    <tr>\n",
       "      <th>2145</th>\n",
       "      <td>101136</td>\n",
       "      <td>1255.6190</td>\n",
       "      <td>475.2161</td>\n",
       "      <td>271.3299</td>\n",
       "      <td>0.8210</td>\n",
       "      <td>358.8459</td>\n",
       "      <td>0.9888</td>\n",
       "      <td>102286</td>\n",
       "      <td>0.7584</td>\n",
       "      <td>1.7514</td>\n",
       "      <td>0.8061</td>\n",
       "      <td>0.7551</td>\n",
       "      <td>0.0047</td>\n",
       "      <td>0.0027</td>\n",
       "      <td>0.5702</td>\n",
       "      <td>0.9987</td>\n",
       "      <td>Siit_Pistachio</td>\n",
       "    </tr>\n",
       "    <tr>\n",
       "      <th>2146</th>\n",
       "      <td>97409</td>\n",
       "      <td>1195.2150</td>\n",
       "      <td>452.1823</td>\n",
       "      <td>274.5764</td>\n",
       "      <td>0.7945</td>\n",
       "      <td>352.1718</td>\n",
       "      <td>0.9902</td>\n",
       "      <td>98376</td>\n",
       "      <td>0.7635</td>\n",
       "      <td>1.6468</td>\n",
       "      <td>0.8569</td>\n",
       "      <td>0.7788</td>\n",
       "      <td>0.0046</td>\n",
       "      <td>0.0028</td>\n",
       "      <td>0.6066</td>\n",
       "      <td>0.9989</td>\n",
       "      <td>Siit_Pistachio</td>\n",
       "    </tr>\n",
       "    <tr>\n",
       "      <th>2147</th>\n",
       "      <td>78466</td>\n",
       "      <td>2356.9080</td>\n",
       "      <td>445.9131</td>\n",
       "      <td>258.5125</td>\n",
       "      <td>0.8148</td>\n",
       "      <td>316.0791</td>\n",
       "      <td>0.8662</td>\n",
       "      <td>90591</td>\n",
       "      <td>0.6123</td>\n",
       "      <td>1.7249</td>\n",
       "      <td>0.1775</td>\n",
       "      <td>0.7088</td>\n",
       "      <td>0.0057</td>\n",
       "      <td>0.0033</td>\n",
       "      <td>0.5024</td>\n",
       "      <td>0.8667</td>\n",
       "      <td>Siit_Pistachio</td>\n",
       "    </tr>\n",
       "  </tbody>\n",
       "</table>\n",
       "<p>2148 rows × 17 columns</p>\n",
       "</div>"
      ],
      "text/plain": [
       "        AREA  PERIMETER  ...  SHAPEFACTOR_4              Class\n",
       "0      63391  1568.4050  ...         0.8734  Kirmizi_Pistachio\n",
       "1      68358  1942.1870  ...         0.9024  Kirmizi_Pistachio\n",
       "2      73589  1246.5380  ...         0.9391  Kirmizi_Pistachio\n",
       "3      71106  1445.2610  ...         0.9755  Kirmizi_Pistachio\n",
       "4      80087  1251.5240  ...         0.9833  Kirmizi_Pistachio\n",
       "...      ...        ...  ...            ...                ...\n",
       "2143   85983  1157.1160  ...         0.9900     Siit_Pistachio\n",
       "2144   85691  2327.3459  ...         0.8892     Siit_Pistachio\n",
       "2145  101136  1255.6190  ...         0.9987     Siit_Pistachio\n",
       "2146   97409  1195.2150  ...         0.9989     Siit_Pistachio\n",
       "2147   78466  2356.9080  ...         0.8667     Siit_Pistachio\n",
       "\n",
       "[2148 rows x 17 columns]"
      ]
     },
     "execution_count": 3,
     "metadata": {},
     "output_type": "execute_result"
    }
   ],
   "source": [
    "data16 = pd.read_excel('./Pistachio_16_Features_Dataset/Pistachio_16_Features_Dataset.xls')\n",
    "data16"
   ]
  },
  {
   "cell_type": "code",
   "execution_count": 4,
   "metadata": {},
   "outputs": [
    {
     "name": "stdout",
     "output_type": "stream",
     "text": [
      "<class 'pandas.core.frame.DataFrame'>\n",
      "RangeIndex: 2148 entries, 0 to 2147\n",
      "Data columns (total 17 columns):\n",
      " #   Column         Non-Null Count  Dtype  \n",
      "---  ------         --------------  -----  \n",
      " 0   AREA           2148 non-null   int64  \n",
      " 1   PERIMETER      2148 non-null   float64\n",
      " 2   MAJOR_AXIS     2148 non-null   float64\n",
      " 3   MINOR_AXIS     2148 non-null   float64\n",
      " 4   ECCENTRICITY   2148 non-null   float64\n",
      " 5   EQDIASQ        2148 non-null   float64\n",
      " 6   SOLIDITY       2148 non-null   float64\n",
      " 7   CONVEX_AREA    2148 non-null   int64  \n",
      " 8   EXTENT         2148 non-null   float64\n",
      " 9   ASPECT_RATIO   2148 non-null   float64\n",
      " 10  ROUNDNESS      2148 non-null   float64\n",
      " 11  COMPACTNESS    2148 non-null   float64\n",
      " 12  SHAPEFACTOR_1  2148 non-null   float64\n",
      " 13  SHAPEFACTOR_2  2148 non-null   float64\n",
      " 14  SHAPEFACTOR_3  2148 non-null   float64\n",
      " 15  SHAPEFACTOR_4  2148 non-null   float64\n",
      " 16  Class          2148 non-null   object \n",
      "dtypes: float64(14), int64(2), object(1)\n",
      "memory usage: 285.4+ KB\n"
     ]
    }
   ],
   "source": [
    "data16.info()"
   ]
  },
  {
   "cell_type": "code",
   "execution_count": 5,
   "metadata": {},
   "outputs": [
    {
     "name": "stdout",
     "output_type": "stream",
     "text": [
      "AREA : 13121.73779890054\n",
      "PERIMETER : 375.56550345439894\n",
      "MAJOR_AXIS : 32.445303508178796\n",
      "MINOR_AXIS : 30.310695396739984\n",
      "ECCENTRICITY : 0.048758957264750165\n",
      "EQDIASQ : 26.90860002379475\n",
      "SOLIDITY : 0.05045218484942025\n",
      "CONVEX_AREA : 13154.91932656929\n",
      "EXTENT : 0.05253229423461956\n",
      "ASPECT_RATIO : 0.24010025581296487\n",
      "ROUNDNESS : 0.21275974294227137\n",
      "COMPACTNESS : 0.04454714349125852\n",
      "SHAPEFACTOR_1 : 0.000817253003312335\n",
      "SHAPEFACTOR_2 : 0.00033976902710538436\n",
      "SHAPEFACTOR_3 : 0.06394198264088032\n",
      "SHAPEFACTOR_4 : 0.051840480731986036\n"
     ]
    }
   ],
   "source": [
    "for column in data16.columns[:-1]:\n",
    "    print(column, \":\", data16[column].std())"
   ]
  },
  {
   "cell_type": "code",
   "execution_count": 6,
   "metadata": {},
   "outputs": [
    {
     "data": {
      "text/plain": [
       "Kirmizi_Pistachio    1232\n",
       "Siit_Pistachio        916\n",
       "Name: Class, dtype: int64"
      ]
     },
     "execution_count": 6,
     "metadata": {},
     "output_type": "execute_result"
    }
   ],
   "source": [
    "data16['Class'].value_counts()"
   ]
  },
  {
   "cell_type": "code",
   "execution_count": 7,
   "metadata": {},
   "outputs": [],
   "source": [
    "labels = ['Kirmizi_Pistachio', 'Siirt_Pistachio']\n",
    "one_hot_encode = lambda x: 0 if x == 'Kirmizi_Pistachio' else 1\n",
    "one_hot_encode_revert = lambda x: labels[x]"
   ]
  },
  {
   "cell_type": "code",
   "execution_count": 8,
   "metadata": {},
   "outputs": [],
   "source": [
    "X = data16.drop('Class', axis=1)\n",
    "y = data16['Class']\n",
    "y = y.apply(one_hot_encode)\n",
    "X_train, X_test, y_train, y_test = train_test_split(X, y, stratify=y, test_size=0.2, random_state=123)"
   ]
  },
  {
   "cell_type": "code",
   "execution_count": 9,
   "metadata": {},
   "outputs": [],
   "source": [
    "scaler = MinMaxScaler()\n",
    "pca = PCA()\n",
    "knn = KNeighborsClassifier()\n",
    "pipe = Pipeline(steps=[('scaler', scaler), ('pca', pca), ('knn', knn)])"
   ]
  },
  {
   "cell_type": "code",
   "execution_count": 10,
   "metadata": {},
   "outputs": [
    {
     "name": "stdout",
     "output_type": "stream",
     "text": [
      "dataset sample count: 2148\n",
      "square root: 46\n"
     ]
    }
   ],
   "source": [
    "count_sqrt = math.floor(np.sqrt(X.shape[0]))\n",
    "print('dataset sample count: %i' % X.shape[0])\n",
    "print('square root: %i' % count_sqrt)"
   ]
  },
  {
   "cell_type": "markdown",
   "metadata": {},
   "source": [
    "## Grid Search"
   ]
  },
  {
   "cell_type": "code",
   "execution_count": 11,
   "metadata": {},
   "outputs": [
    {
     "data": {
      "text/plain": [
       "GridSearchCV(cv=10,\n",
       "             estimator=Pipeline(steps=[('scaler', MinMaxScaler()),\n",
       "                                       ('pca', PCA()),\n",
       "                                       ('knn', KNeighborsClassifier())]),\n",
       "             param_grid={'knn__metric': ['euclidean', 'minkowski', 'manhattan'],\n",
       "                         'knn__n_neighbors': array([ 3,  5,  7,  9, 11, 13, 15, 17, 19, 21, 23, 25, 27, 29, 31, 33, 35,\n",
       "       37, 39, 41, 43, 45]),\n",
       "                         'pca__n_components': [3, 5, 7, 9, 11, 13, 15, 16]},\n",
       "             refit='accuracy',\n",
       "             scoring=['accuracy', 'precision', 'recall', 'f1', 'roc_auc'],\n",
       "             verbose=1)"
      ]
     },
     "execution_count": 11,
     "metadata": {},
     "output_type": "execute_result"
    }
   ],
   "source": [
    "params = {\n",
    "    'pca__n_components': [3, 5, 7, 9, 11, 13, 15, X.shape[1]],\n",
    "    'knn__n_neighbors': np.arange(3, count_sqrt + 1, 2),\n",
    "    'knn__metric': ['euclidean', 'minkowski', 'manhattan'],\n",
    "    # 'knn__metric': ['euclidean', 'minkowski', 'manhattan', 'mahalanobis']\n",
    "}\n",
    "\n",
    "scoring = ['accuracy', 'precision', 'recall', 'f1', 'roc_auc']\n",
    "\n",
    "grid = GridSearchCV(pipe, params, cv=10, scoring=scoring, refit='accuracy', return_train_score=False, verbose=1)\n",
    "grid"
   ]
  },
  {
   "cell_type": "code",
   "execution_count": 12,
   "metadata": {},
   "outputs": [
    {
     "name": "stdout",
     "output_type": "stream",
     "text": [
      "Fitting 10 folds for each of 528 candidates, totalling 5280 fits\n"
     ]
    },
    {
     "data": {
      "text/plain": [
       "GridSearchCV(cv=10,\n",
       "             estimator=Pipeline(steps=[('scaler', MinMaxScaler()),\n",
       "                                       ('pca', PCA()),\n",
       "                                       ('knn', KNeighborsClassifier())]),\n",
       "             param_grid={'knn__metric': ['euclidean', 'minkowski', 'manhattan'],\n",
       "                         'knn__n_neighbors': array([ 3,  5,  7,  9, 11, 13, 15, 17, 19, 21, 23, 25, 27, 29, 31, 33, 35,\n",
       "       37, 39, 41, 43, 45]),\n",
       "                         'pca__n_components': [3, 5, 7, 9, 11, 13, 15, 16]},\n",
       "             refit='accuracy',\n",
       "             scoring=['accuracy', 'precision', 'recall', 'f1', 'roc_auc'],\n",
       "             verbose=1)"
      ]
     },
     "execution_count": 12,
     "metadata": {},
     "output_type": "execute_result"
    }
   ],
   "source": [
    "grid.fit(X_train, y_train)"
   ]
  },
  {
   "cell_type": "code",
   "execution_count": 13,
   "metadata": {},
   "outputs": [
    {
     "data": {
      "text/plain": [
       "{'knn__metric': 'euclidean', 'knn__n_neighbors': 11, 'pca__n_components': 5}"
      ]
     },
     "execution_count": 13,
     "metadata": {},
     "output_type": "execute_result"
    }
   ],
   "source": [
    "grid.best_params_"
   ]
  },
  {
   "cell_type": "code",
   "execution_count": 14,
   "metadata": {},
   "outputs": [
    {
     "name": "stdout",
     "output_type": "stream",
     "text": [
      "---- GridSearchCV set stats:\n",
      "Kirmizi_Pistachio: 985 datapoints\n",
      "Siirt_Pistachio: 733 datapoints\n"
     ]
    }
   ],
   "source": [
    "print(\"---- GridSearchCV set stats:\")\n",
    "for label, amount in zip(labels, np.bincount(y_train)):\n",
    "    print(\"%s: %i datapoints\" % (label, amount))"
   ]
  },
  {
   "cell_type": "code",
   "execution_count": 15,
   "metadata": {},
   "outputs": [
    {
     "data": {
      "image/png": "[encoded data removed]",
      "text/plain": [
       "<Figure size 432x288 with 2 Axes>"
      ]
     },
     "metadata": {
      "needs_background": "light"
     },
     "output_type": "display_data"
    }
   ],
   "source": [
    "plot_confusion_matrix(grid, X_train, y_train, display_labels=labels)  \n",
    "plt.show()"
   ]
  },
  {
   "cell_type": "markdown",
   "metadata": {},
   "source": [
    "## Test"
   ]
  },
  {
   "cell_type": "code",
   "execution_count": 16,
   "metadata": {},
   "outputs": [
    {
     "name": "stdout",
     "output_type": "stream",
     "text": [
      "---- test set stats:\n",
      "Kirmizi_Pistachio: 247 datapoints\n",
      "Siirt_Pistachio: 183 datapoints\n"
     ]
    }
   ],
   "source": [
    "print(\"---- test set stats:\")\n",
    "for label, amount in zip(labels, np.bincount(y_test)):\n",
    "    print(\"%s: %i datapoints\" % (label, amount))"
   ]
  },
  {
   "cell_type": "code",
   "execution_count": 20,
   "metadata": {},
   "outputs": [
    {
     "name": "stdout",
     "output_type": "stream",
     "text": [
      "---- 16-feature dataset test results\n",
      "Grid Search CV (10 folds) + PCA found the following hyperparameters:\n",
      "knn__metric: euclidean\n",
      "knn__n_neighbors: 11\n",
      "pca__n_components: 5\n",
      "\n",
      "\n",
      "---- test metrics:\n",
      "   accuracy  f1_score  precision    recall\n",
      "0  0.872093  0.845938   0.867816  0.825137\n"
     ]
    },
    {
     "data": {
      "image/png": "[encoded data removed]",
      "text/plain": [
       "<Figure size 432x288 with 2 Axes>"
      ]
     },
     "metadata": {},
     "output_type": "display_data"
    },
    {
     "data": {
      "image/png": "[encoded data removed]",
      "text/plain": [
       "<Figure size 432x288 with 1 Axes>"
      ]
     },
     "metadata": {},
     "output_type": "display_data"
    }
   ],
   "source": [
    "y_pred = grid.predict(X_test)\n",
    "\n",
    "test_metrics = pd.DataFrame({\n",
    "    \"accuracy\": [accuracy_score(y_test, y_pred)],\n",
    "    \"f1_score\": [f1_score(y_test, y_pred)],\n",
    "    \"precision\": [precision_score(y_test, y_pred)],\n",
    "    \"recall\": [recall_score(y_test, y_pred)],\n",
    "})\n",
    "\n",
    "print(\"---- 16-feature dataset test results\")\n",
    "print(\"Grid Search CV (10 folds) + PCA found the following hyperparameters:\")\n",
    "print(\"\\n\".join([\"%s: %s\" % (param, value) for param, value in grid.best_params_.items()]))\n",
    "print(\"\\n\")\n",
    "print(\"---- test metrics:\")\n",
    "print(test_metrics)\n",
    "\n",
    "cm = confusion_matrix(y_test, y_pred, labels=grid.classes_)\n",
    "display = ConfusionMatrixDisplay(confusion_matrix=cm, display_labels=labels)\n",
    "display.plot()\n",
    "plt.show()\n",
    "\n",
    "sns.set_theme()\n",
    "\n",
    "fpr, tpr, thresholds = roc_curve(y_test, y_pred)\n",
    "roc_auc = auc(fpr, tpr)\n",
    "display = RocCurveDisplay(fpr=fpr, tpr=tpr, roc_auc=roc_auc, estimator_name='KNN')\n",
    "display.plot()\n",
    "plt.show()"
   ]
  },
  {
   "cell_type": "code",
   "execution_count": 32,
   "metadata": {},
   "outputs": [],
   "source": [
    "pd.DataFrame(cm).to_csv(\"confusion_matrix_16_features.csv\")\n",
    "pd.DataFrame([fpr, tpr, [roc_auc for x in range(len(fpr))]]).to_csv(\"roc_curve_16_features.csv\")"
   ]
  }
 ],
 "metadata": {
  "interpreter": {
   "hash": "77ab0bf75426114283fafc7207ca0245f7de4738c2866fb9aad708a7843cc047"
  },
  "kernelspec": {
   "display_name": "Python 3.9.7 ('base')",
   "language": "python",
   "name": "python3"
  },
  "language_info": {
   "codemirror_mode": {
    "name": "ipython",
    "version": 3
   },
   "file_extension": ".py",
   "mimetype": "text/x-python",
   "name": "python",
   "nbconvert_exporter": "python",
   "pygments_lexer": "ipython3",
   "version": "3.9.7"
  },
  "orig_nbformat": 4
 },
 "nbformat": 4,
 "nbformat_minor": 2
}
