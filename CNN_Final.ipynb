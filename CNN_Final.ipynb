{
 "cells": [
  {
   "cell_type": "markdown",
   "id": "f0ddd6c5",
   "metadata": {},
   "source": [
    "## Import libs"
   ]
  },
  {
   "cell_type": "code",
   "execution_count": 58,
   "id": "89c354dc",
   "metadata": {},
   "outputs": [],
   "source": [
    "import matplotlib.pyplot as plt\n",
    "import seaborn as sns\n",
    "\n",
    "import keras\n",
    "from keras.models import Sequential\n",
    "from keras.layers import Dense, Conv2D , MaxPool2D , Flatten , Dropout \n",
    "from keras.preprocessing.image import ImageDataGenerator\n",
    "from keras.optimizers import Adam\n",
    "\n",
    "from sklearn.metrics import classification_report,confusion_matrix\n",
    "from sklearn.metrics import roc_curve, auc\n",
    "\n",
    "import tensorflow as tf\n",
    "\n",
    "import cv2\n",
    "import os\n",
    "\n",
    "import numpy as np"
   ]
  },
  {
   "cell_type": "markdown",
   "id": "1d1efc3c",
   "metadata": {},
   "source": [
    "## Load train, val and test data"
   ]
  },
  {
   "cell_type": "code",
   "execution_count": 37,
   "id": "8bf145f4",
   "metadata": {},
   "outputs": [],
   "source": [
    "labels = ['Kirmizi_Pistachio', 'Siirt_Pistachio']\n",
    "img_size = 224\n",
    "def get_data(data_dir):\n",
    "    data = [] \n",
    "    for label in labels: \n",
    "        path = os.path.join(data_dir, label)\n",
    "        class_num = labels.index(label)\n",
    "        for img in os.listdir(path):\n",
    "            try:\n",
    "                img_arr = cv2.imread(os.path.join(path, img))[...,::-1]\n",
    "                resized_arr = cv2.resize(img_arr, (img_size, img_size))\n",
    "                data.append([resized_arr, class_num])\n",
    "            except Exception as e:\n",
    "                print(e)\n",
    "    return np.array(data)"
   ]
  },
  {
   "cell_type": "code",
   "execution_count": 38,
   "id": "ef681515",
   "metadata": {},
   "outputs": [
    {
     "name": "stderr",
     "output_type": "stream",
     "text": [
      "/tmp/ipykernel_4344/673422909.py:15: VisibleDeprecationWarning: Creating an ndarray from ragged nested sequences (which is a list-or-tuple of lists-or-tuples-or ndarrays with different lengths or shapes) is deprecated. If you meant to do this, you must specify 'dtype=object' when creating the ndarray.\n",
      "  return np.array(data)\n"
     ]
    }
   ],
   "source": [
    "train = get_data('Pistachio_Image_Dataset_Train')\n",
    "val = get_data('Pistachio_Image_Dataset_Val')\n",
    "test = get_data('Pistachio_Image_Dataset_Test')"
   ]
  },
  {
   "cell_type": "markdown",
   "id": "e321f8bb",
   "metadata": {},
   "source": [
    "## Showing the distribution of data"
   ]
  },
  {
   "cell_type": "code",
   "execution_count": 95,
   "id": "71269e8a",
   "metadata": {},
   "outputs": [
    {
     "data": {
      "text/plain": [
       "<AxesSubplot:ylabel='count'>"
      ]
     },
     "execution_count": 95,
     "metadata": {},
     "output_type": "execute_result"
    },
    {
     "data": {
      "image/png": "[encoded data removed]",
      "text/plain": [
       "<Figure size 432x288 with 1 Axes>"
      ]
     },
     "metadata": {},
     "output_type": "display_data"
    }
   ],
   "source": [
    "l = []\n",
    "for i in train:\n",
    "    if(i[1] == 0):\n",
    "        l.append(\"Kirmizi_Pistachio\")\n",
    "    else:\n",
    "        l.append(\"Siirt_Pistachio\")\n",
    "sns.set_style('darkgrid')\n",
    "sns.countplot(x=l)"
   ]
  },
  {
   "cell_type": "code",
   "execution_count": 96,
   "id": "21e3a34b",
   "metadata": {
    "scrolled": true
   },
   "outputs": [
    {
     "data": {
      "text/plain": [
       "<AxesSubplot:ylabel='count'>"
      ]
     },
     "execution_count": 96,
     "metadata": {},
     "output_type": "execute_result"
    },
    {
     "data": {
      "image/png": "[encoded data removed]",
      "text/plain": [
       "<Figure size 432x288 with 1 Axes>"
      ]
     },
     "metadata": {},
     "output_type": "display_data"
    }
   ],
   "source": [
    "l = []\n",
    "for i in val:\n",
    "    if(i[1] == 0):\n",
    "        l.append(\"Kirmizi_Pistachio\")\n",
    "    else:\n",
    "        l.append(\"Siirt_Pistachio\")\n",
    "sns.set_style('darkgrid')\n",
    "sns.countplot(x=l)"
   ]
  },
  {
   "cell_type": "code",
   "execution_count": 97,
   "id": "e615f405",
   "metadata": {
    "scrolled": true
   },
   "outputs": [
    {
     "data": {
      "text/plain": [
       "<AxesSubplot:ylabel='count'>"
      ]
     },
     "execution_count": 97,
     "metadata": {},
     "output_type": "execute_result"
    },
    {
     "data": {
      "image/png": "[encoded data removed]",
      "text/plain": [
       "<Figure size 432x288 with 1 Axes>"
      ]
     },
     "metadata": {},
     "output_type": "display_data"
    }
   ],
   "source": [
    "l = []\n",
    "for i in test:\n",
    "    if(i[1] == 0):\n",
    "        l.append(\"Kirmizi_Pistachio\")\n",
    "    else:\n",
    "        l.append(\"Siirt_Pistachio\")\n",
    "sns.set_style('darkgrid')\n",
    "sns.countplot(x=l)"
   ]
  },
  {
   "cell_type": "markdown",
   "id": "f2449d12",
   "metadata": {},
   "source": [
    "## Pre-Process Data and Data Augmentation"
   ]
  },
  {
   "cell_type": "code",
   "execution_count": 44,
   "id": "3e00065f",
   "metadata": {},
   "outputs": [],
   "source": [
    "x_train = []\n",
    "y_train = []\n",
    "\n",
    "x_val = []\n",
    "y_val = []\n",
    "\n",
    "x_test = []\n",
    "y_test = []\n",
    "\n",
    "\n",
    "for feature, label in train:\n",
    "  x_train.append(feature)\n",
    "  y_train.append(label)\n",
    "\n",
    "for feature, label in val:\n",
    "  x_val.append(feature)\n",
    "  y_val.append(label)\n",
    "    \n",
    "for feature, label in test:\n",
    "  x_test.append(feature)\n",
    "  y_test.append(label)\n",
    "\n",
    "x_train = np.array(x_train) / 255\n",
    "x_val = np.array(x_val) / 255\n",
    "x_test = np.array(x_val) / 255\n",
    "\n",
    "x_train.reshape(-1, img_size, img_size, 1)\n",
    "y_train = np.array(y_train)\n",
    "\n",
    "x_val.reshape(-1, img_size, img_size, 1)\n",
    "y_val = np.array(y_val)\n",
    "\n",
    "x_test.reshape(-1, img_size, img_size, 1)\n",
    "y_test = np.array(y_val)"
   ]
  },
  {
   "cell_type": "code",
   "execution_count": 45,
   "id": "c1cd4cf5",
   "metadata": {},
   "outputs": [],
   "source": [
    "datagen = ImageDataGenerator(\n",
    "        featurewise_center=False,  # set input mean to 0 over the dataset\n",
    "        samplewise_center=False,  # set each sample mean to 0\n",
    "        featurewise_std_normalization=False,  # divide inputs by std of the dataset\n",
    "        samplewise_std_normalization=False,  # divide each input by its std\n",
    "        zca_whitening=False,  # apply ZCA whitening\n",
    "        rotation_range = 30,  # randomly rotate images in the range (degrees, 0 to 180)\n",
    "        zoom_range = 0.2, # Randomly zoom image \n",
    "        width_shift_range=0.1,  # randomly shift images horizontally (fraction of total width)\n",
    "        height_shift_range=0.1,  # randomly shift images vertically (fraction of total height)\n",
    "        horizontal_flip = True,  # randomly flip images\n",
    "        vertical_flip=False)  # randomly flip images\n",
    "\n",
    "\n",
    "datagen.fit(x_train)"
   ]
  },
  {
   "cell_type": "markdown",
   "id": "7038dac8",
   "metadata": {},
   "source": [
    "## Build the model"
   ]
  },
  {
   "cell_type": "code",
   "execution_count": 46,
   "id": "b431c340",
   "metadata": {},
   "outputs": [
    {
     "name": "stdout",
     "output_type": "stream",
     "text": [
      "Model: \"sequential_2\"\n",
      "_________________________________________________________________\n",
      " Layer (type)                Output Shape              Param #   \n",
      "=================================================================\n",
      " conv2d_6 (Conv2D)           (None, 224, 224, 32)      896       \n",
      "                                                                 \n",
      " max_pooling2d_6 (MaxPooling  (None, 112, 112, 32)     0         \n",
      " 2D)                                                             \n",
      "                                                                 \n",
      " conv2d_7 (Conv2D)           (None, 112, 112, 32)      9248      \n",
      "                                                                 \n",
      " max_pooling2d_7 (MaxPooling  (None, 56, 56, 32)       0         \n",
      " 2D)                                                             \n",
      "                                                                 \n",
      " conv2d_8 (Conv2D)           (None, 56, 56, 64)        18496     \n",
      "                                                                 \n",
      " max_pooling2d_8 (MaxPooling  (None, 28, 28, 64)       0         \n",
      " 2D)                                                             \n",
      "                                                                 \n",
      " dropout_2 (Dropout)         (None, 28, 28, 64)        0         \n",
      "                                                                 \n",
      " flatten_2 (Flatten)         (None, 50176)             0         \n",
      "                                                                 \n",
      " dense_4 (Dense)             (None, 128)               6422656   \n",
      "                                                                 \n",
      " dense_5 (Dense)             (None, 2)                 258       \n",
      "                                                                 \n",
      "=================================================================\n",
      "Total params: 6,451,554\n",
      "Trainable params: 6,451,554\n",
      "Non-trainable params: 0\n",
      "_________________________________________________________________\n"
     ]
    }
   ],
   "source": [
    "model = Sequential()\n",
    "model.add(Conv2D(32,3,padding=\"same\", activation=\"relu\", input_shape=(224,224,3)))\n",
    "model.add(MaxPool2D())\n",
    "\n",
    "model.add(Conv2D(32, 3, padding=\"same\", activation=\"relu\"))\n",
    "model.add(MaxPool2D())\n",
    "\n",
    "model.add(Conv2D(64, 3, padding=\"same\", activation=\"relu\"))\n",
    "model.add(MaxPool2D())\n",
    "model.add(Dropout(0.4))\n",
    "\n",
    "model.add(Flatten())\n",
    "model.add(Dense(128,activation=\"relu\"))\n",
    "model.add(Dense(2, activation=\"softmax\"))\n",
    "\n",
    "model.summary()"
   ]
  },
  {
   "cell_type": "code",
   "execution_count": 47,
   "id": "d87ef51d",
   "metadata": {},
   "outputs": [],
   "source": [
    "opt = Adam(learning_rate=0.000001)\n",
    "model.compile(optimizer = opt , loss = tf.keras.losses.SparseCategoricalCrossentropy(from_logits=True) , metrics = ['accuracy'])\n",
    "\n",
    "mode_autosave = tf.keras.callbacks.ModelCheckpoint('best_model.h5', save_best_only=True,monitor='val_loss',mode='min', verbose=0)\n",
    "reduce_lr_loss = tf.keras.callbacks.ReduceLROnPlateau(monitor='val_loss', factor=0.1, patience=80, verbose=1, min_delta=1e-4, mode='min')\n",
    "early_stopping = tf.keras.callbacks.EarlyStopping(monitor='val_loss', patience=200, verbose=0, mode='min')"
   ]
  },
  {
   "cell_type": "markdown",
   "id": "69384ef7",
   "metadata": {},
   "source": [
    "## Training the model"
   ]
  },
  {
   "cell_type": "code",
   "execution_count": 48,
   "id": "0f486433",
   "metadata": {
    "scrolled": true
   },
   "outputs": [
    {
     "name": "stdout",
     "output_type": "stream",
     "text": [
      "Epoch 1/50\n"
     ]
    },
    {
     "name": "stderr",
     "output_type": "stream",
     "text": [
      "2022-06-19 17:39:17.563570: W tensorflow/core/framework/cpu_allocator_impl.cc:82] Allocation of 1047072768 exceeds 10% of free system memory.\n",
      "/home/alexandre/Mestrado/Aprendizagem de Maquina/ap/lib/python3.8/site-packages/tensorflow/python/util/dispatch.py:1082: UserWarning: \"`sparse_categorical_crossentropy` received `from_logits=True`, but the `output` argument was produced by a sigmoid or softmax activation and thus does not represent logits. Was this intended?\"\n",
      "  return dispatch_target(*args, **kwargs)\n"
     ]
    },
    {
     "name": "stdout",
     "output_type": "stream",
     "text": [
      "55/55 [==============================] - 51s 927ms/step - loss: 0.6821 - accuracy: 0.5693 - val_loss: 0.6755 - val_accuracy: 0.5619\n",
      "Epoch 2/50\n",
      "55/55 [==============================] - 52s 942ms/step - loss: 0.6628 - accuracy: 0.6256 - val_loss: 0.6552 - val_accuracy: 0.6082\n",
      "Epoch 3/50\n",
      "55/55 [==============================] - 48s 872ms/step - loss: 0.6487 - accuracy: 0.6550 - val_loss: 0.6323 - val_accuracy: 0.6598\n",
      "Epoch 4/50\n",
      "55/55 [==============================] - 53s 953ms/step - loss: 0.6318 - accuracy: 0.6774 - val_loss: 0.6106 - val_accuracy: 0.7216\n",
      "Epoch 5/50\n",
      "55/55 [==============================] - 51s 935ms/step - loss: 0.6117 - accuracy: 0.7062 - val_loss: 0.5888 - val_accuracy: 0.7577\n",
      "Epoch 6/50\n",
      "55/55 [==============================] - 53s 969ms/step - loss: 0.5953 - accuracy: 0.7401 - val_loss: 0.5691 - val_accuracy: 0.7732\n",
      "Epoch 7/50\n",
      "55/55 [==============================] - 55s 996ms/step - loss: 0.5775 - accuracy: 0.7407 - val_loss: 0.5512 - val_accuracy: 0.7629\n",
      "Epoch 8/50\n",
      "55/55 [==============================] - 56s 1s/step - loss: 0.5575 - accuracy: 0.7516 - val_loss: 0.5338 - val_accuracy: 0.7629\n",
      "Epoch 9/50\n",
      "55/55 [==============================] - 55s 992ms/step - loss: 0.5447 - accuracy: 0.7614 - val_loss: 0.5191 - val_accuracy: 0.7680\n",
      "Epoch 10/50\n",
      "55/55 [==============================] - 60s 1s/step - loss: 0.5300 - accuracy: 0.7786 - val_loss: 0.5072 - val_accuracy: 0.7784\n",
      "Epoch 11/50\n",
      "55/55 [==============================] - 58s 1s/step - loss: 0.5130 - accuracy: 0.7930 - val_loss: 0.4949 - val_accuracy: 0.7732\n",
      "Epoch 12/50\n",
      "55/55 [==============================] - 49s 899ms/step - loss: 0.5024 - accuracy: 0.7924 - val_loss: 0.4838 - val_accuracy: 0.7732\n",
      "Epoch 13/50\n",
      "55/55 [==============================] - 49s 890ms/step - loss: 0.4947 - accuracy: 0.7821 - val_loss: 0.4760 - val_accuracy: 0.8041\n",
      "Epoch 14/50\n",
      "55/55 [==============================] - 49s 886ms/step - loss: 0.4874 - accuracy: 0.7844 - val_loss: 0.4656 - val_accuracy: 0.7990\n",
      "Epoch 15/50\n",
      "55/55 [==============================] - 49s 884ms/step - loss: 0.4742 - accuracy: 0.7964 - val_loss: 0.4561 - val_accuracy: 0.7732\n",
      "Epoch 16/50\n",
      "55/55 [==============================] - 49s 885ms/step - loss: 0.4687 - accuracy: 0.7913 - val_loss: 0.4483 - val_accuracy: 0.7887\n",
      "Epoch 17/50\n",
      "55/55 [==============================] - 49s 882ms/step - loss: 0.4619 - accuracy: 0.7913 - val_loss: 0.4400 - val_accuracy: 0.7835\n",
      "Epoch 18/50\n",
      "55/55 [==============================] - 49s 886ms/step - loss: 0.4516 - accuracy: 0.7844 - val_loss: 0.4340 - val_accuracy: 0.8093\n",
      "Epoch 19/50\n",
      "55/55 [==============================] - 49s 884ms/step - loss: 0.4510 - accuracy: 0.7987 - val_loss: 0.4261 - val_accuracy: 0.8093\n",
      "Epoch 20/50\n",
      "55/55 [==============================] - 49s 882ms/step - loss: 0.4422 - accuracy: 0.7999 - val_loss: 0.4216 - val_accuracy: 0.8093\n",
      "Epoch 21/50\n",
      "55/55 [==============================] - 49s 885ms/step - loss: 0.4382 - accuracy: 0.8005 - val_loss: 0.4170 - val_accuracy: 0.8144\n",
      "Epoch 22/50\n",
      "55/55 [==============================] - 49s 891ms/step - loss: 0.4395 - accuracy: 0.7964 - val_loss: 0.4103 - val_accuracy: 0.8196\n",
      "Epoch 23/50\n",
      "55/55 [==============================] - 49s 890ms/step - loss: 0.4285 - accuracy: 0.8074 - val_loss: 0.4068 - val_accuracy: 0.8247\n",
      "Epoch 24/50\n",
      "55/55 [==============================] - 49s 886ms/step - loss: 0.4248 - accuracy: 0.8016 - val_loss: 0.4028 - val_accuracy: 0.8247\n",
      "Epoch 25/50\n",
      "55/55 [==============================] - 49s 884ms/step - loss: 0.4229 - accuracy: 0.8085 - val_loss: 0.3960 - val_accuracy: 0.8247\n",
      "Epoch 26/50\n",
      "55/55 [==============================] - 49s 884ms/step - loss: 0.4231 - accuracy: 0.8056 - val_loss: 0.3928 - val_accuracy: 0.8299\n",
      "Epoch 27/50\n",
      "55/55 [==============================] - 49s 883ms/step - loss: 0.4168 - accuracy: 0.8068 - val_loss: 0.3863 - val_accuracy: 0.8247\n",
      "Epoch 28/50\n",
      "55/55 [==============================] - 49s 884ms/step - loss: 0.4111 - accuracy: 0.8137 - val_loss: 0.3838 - val_accuracy: 0.8299\n",
      "Epoch 29/50\n",
      "55/55 [==============================] - 48s 879ms/step - loss: 0.4084 - accuracy: 0.8131 - val_loss: 0.3812 - val_accuracy: 0.8351\n",
      "Epoch 30/50\n",
      "55/55 [==============================] - 49s 882ms/step - loss: 0.4081 - accuracy: 0.8097 - val_loss: 0.3758 - val_accuracy: 0.8351\n",
      "Epoch 31/50\n",
      "55/55 [==============================] - 48s 881ms/step - loss: 0.4035 - accuracy: 0.8125 - val_loss: 0.3737 - val_accuracy: 0.8402\n",
      "Epoch 32/50\n",
      "55/55 [==============================] - 49s 882ms/step - loss: 0.4026 - accuracy: 0.8177 - val_loss: 0.3722 - val_accuracy: 0.8402\n",
      "Epoch 33/50\n",
      "55/55 [==============================] - 48s 882ms/step - loss: 0.4013 - accuracy: 0.8200 - val_loss: 0.3699 - val_accuracy: 0.8402\n",
      "Epoch 34/50\n",
      "55/55 [==============================] - 49s 883ms/step - loss: 0.3977 - accuracy: 0.8183 - val_loss: 0.3656 - val_accuracy: 0.8454\n",
      "Epoch 35/50\n",
      "55/55 [==============================] - 48s 880ms/step - loss: 0.3977 - accuracy: 0.8137 - val_loss: 0.3640 - val_accuracy: 0.8402\n",
      "Epoch 36/50\n",
      "55/55 [==============================] - 48s 881ms/step - loss: 0.3915 - accuracy: 0.8258 - val_loss: 0.3635 - val_accuracy: 0.8402\n",
      "Epoch 37/50\n",
      "55/55 [==============================] - 48s 882ms/step - loss: 0.3913 - accuracy: 0.8263 - val_loss: 0.3590 - val_accuracy: 0.8454\n",
      "Epoch 38/50\n",
      "55/55 [==============================] - 49s 884ms/step - loss: 0.3908 - accuracy: 0.8286 - val_loss: 0.3576 - val_accuracy: 0.8505\n",
      "Epoch 39/50\n",
      "55/55 [==============================] - 49s 883ms/step - loss: 0.3867 - accuracy: 0.8292 - val_loss: 0.3567 - val_accuracy: 0.8454\n",
      "Epoch 40/50\n",
      "55/55 [==============================] - 49s 884ms/step - loss: 0.3856 - accuracy: 0.8309 - val_loss: 0.3523 - val_accuracy: 0.8454\n",
      "Epoch 41/50\n",
      "55/55 [==============================] - 48s 881ms/step - loss: 0.3836 - accuracy: 0.8298 - val_loss: 0.3532 - val_accuracy: 0.8454\n",
      "Epoch 42/50\n",
      "55/55 [==============================] - 49s 882ms/step - loss: 0.3842 - accuracy: 0.8240 - val_loss: 0.3503 - val_accuracy: 0.8454\n",
      "Epoch 43/50\n",
      "55/55 [==============================] - 48s 880ms/step - loss: 0.3820 - accuracy: 0.8309 - val_loss: 0.3479 - val_accuracy: 0.8557\n",
      "Epoch 44/50\n",
      "55/55 [==============================] - 48s 880ms/step - loss: 0.3785 - accuracy: 0.8298 - val_loss: 0.3451 - val_accuracy: 0.8557\n",
      "Epoch 45/50\n",
      "55/55 [==============================] - 48s 880ms/step - loss: 0.3774 - accuracy: 0.8309 - val_loss: 0.3430 - val_accuracy: 0.8557\n",
      "Epoch 46/50\n",
      "55/55 [==============================] - 48s 881ms/step - loss: 0.3737 - accuracy: 0.8344 - val_loss: 0.3453 - val_accuracy: 0.8505\n",
      "Epoch 47/50\n",
      "55/55 [==============================] - 49s 882ms/step - loss: 0.3738 - accuracy: 0.8344 - val_loss: 0.3436 - val_accuracy: 0.8454\n",
      "Epoch 48/50\n",
      "55/55 [==============================] - 48s 882ms/step - loss: 0.3697 - accuracy: 0.8384 - val_loss: 0.3387 - val_accuracy: 0.8608\n",
      "Epoch 49/50\n",
      "55/55 [==============================] - 48s 881ms/step - loss: 0.3649 - accuracy: 0.8361 - val_loss: 0.3368 - val_accuracy: 0.8608\n",
      "Epoch 50/50\n",
      "55/55 [==============================] - 48s 881ms/step - loss: 0.3705 - accuracy: 0.8338 - val_loss: 0.3363 - val_accuracy: 0.8608\n"
     ]
    }
   ],
   "source": [
    "epochs = 50\n",
    "\n",
    "history = model.fit(x_train,y_train,epochs = epochs, validation_data = (x_val, y_val), callbacks=[mode_autosave,reduce_lr_loss,early_stopping])"
   ]
  },
  {
   "cell_type": "markdown",
   "id": "262be578",
   "metadata": {},
   "source": [
    "## Accuracy and Loss per Epoch"
   ]
  },
  {
   "cell_type": "code",
   "execution_count": 71,
   "id": "c1c8f931",
   "metadata": {},
   "outputs": [
    {
     "data": {
      "image/png": "[encoded data removed]",
      "text/plain": [
       "<Figure size 1080x1080 with 2 Axes>"
      ]
     },
     "metadata": {},
     "output_type": "display_data"
    }
   ],
   "source": [
    "acc = history.history['accuracy']\n",
    "val_acc = history.history['val_accuracy']\n",
    "loss = history.history['loss']\n",
    "val_loss = history.history['val_loss']\n",
    "\n",
    "epochs_range = range(epochs)\n",
    "\n",
    "plt.figure(figsize=(15, 15))\n",
    "plt.subplot(2, 2, 1)\n",
    "plt.plot(epochs_range, acc, label='Training Accuracy')\n",
    "plt.plot(epochs_range, val_acc, label='Validation Accuracy')\n",
    "plt.legend(loc='lower right')\n",
    "plt.title('Training and Validation Accuracy')\n",
    "\n",
    "plt.subplot(2, 2, 2)\n",
    "plt.plot(epochs_range, loss, label='Training Loss')\n",
    "plt.plot(epochs_range, val_loss, label='Validation Loss')\n",
    "plt.legend(loc='upper right')\n",
    "plt.title('Training and Validation Loss')\n",
    "plt.show()"
   ]
  },
  {
   "cell_type": "markdown",
   "id": "18a38d75",
   "metadata": {},
   "source": [
    "## Precision, Recall, F1-Score, Support and confusion_matrix"
   ]
  },
  {
   "cell_type": "code",
   "execution_count": 76,
   "id": "eb1b4302",
   "metadata": {},
   "outputs": [
    {
     "name": "stdout",
     "output_type": "stream",
     "text": [
      "7/7 [==============================] - 1s 139ms/step\n"
     ]
    },
    {
     "data": {
      "text/plain": [
       "array([[96, 15],\n",
       "       [12, 71]])"
      ]
     },
     "execution_count": 76,
     "metadata": {},
     "output_type": "execute_result"
    }
   ],
   "source": [
    "y_pred= model.predict(x_val) \n",
    "y_pred= np.argmax(y_pred,axis=1)\n",
    "confusion_matrix(y_test, y_pred)\n",
    "## TN FP\n",
    "## FN TP\n",
    "\"\"\"Thus in binary classification, the count of true negatives is\n",
    ":math:`C_{0,0}`, false negatives is :math:`C_{1,0}`, true positives is\n",
    ":math:`C_{1,1}` and false positives is :math:`C_{0,1}`.\"\"\""
   ]
  },
  {
   "cell_type": "code",
   "execution_count": 72,
   "id": "131c9631",
   "metadata": {},
   "outputs": [
    {
     "name": "stdout",
     "output_type": "stream",
     "text": [
      "7/7 [==============================] - 1s 140ms/step\n",
      "                   precision    recall  f1-score   support\n",
      "\n",
      "Kirimizi(Class 0)       0.89      0.86      0.88       111\n",
      "  Siirt (Class 1)       0.83      0.86      0.84        83\n",
      "\n",
      "         accuracy                           0.86       194\n",
      "        macro avg       0.86      0.86      0.86       194\n",
      "     weighted avg       0.86      0.86      0.86       194\n",
      "\n"
     ]
    }
   ],
   "source": [
    "print(classification_report(y_test, y_pred, target_names = ['Kirimizi(Class 0)','Siirt (Class 1)']))"
   ]
  },
  {
   "cell_type": "code",
   "execution_count": 73,
   "id": "8d343c55",
   "metadata": {},
   "outputs": [
    {
     "data": {
      "text/plain": [
       "[<matplotlib.lines.Line2D at 0x7f519d73c880>]"
      ]
     },
     "execution_count": 73,
     "metadata": {},
     "output_type": "execute_result"
    },
    {
     "data": {
      "image/png": "[encoded data removed]",
      "text/plain": [
       "<Figure size 432x288 with 1 Axes>"
      ]
     },
     "metadata": {},
     "output_type": "display_data"
    }
   ],
   "source": [
    "nn_fpr_keras, nn_tpr_keras, nn_thresholds_keras = roc_curve(y_test, y_pred)\n",
    "auc_keras = auc(nn_fpr_keras, nn_tpr_keras)\n",
    "plt.plot(nn_fpr_keras, nn_tpr_keras, marker='.', label='Neural Network (auc = %0.3f)' % auc_keras)"
   ]
  },
  {
   "cell_type": "code",
   "execution_count": null,
   "id": "eb10d05a",
   "metadata": {},
   "outputs": [],
   "source": []
  }
 ],
 "metadata": {
  "kernelspec": {
   "display_name": "Python 3 (ipykernel)",
   "language": "python",
   "name": "python3"
  },
  "language_info": {
   "codemirror_mode": {
    "name": "ipython",
    "version": 3
   },
   "file_extension": ".py",
   "mimetype": "text/x-python",
   "name": "python",
   "nbconvert_exporter": "python",
   "pygments_lexer": "ipython3",
   "version": "3.8.10"
  }
 },
 "nbformat": 4,
 "nbformat_minor": 5
}
