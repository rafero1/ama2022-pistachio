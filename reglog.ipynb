{
 "cells": [
  {
   "cell_type": "code",
   "execution_count": 1,
   "id": "168b3d86",
   "metadata": {
    "ExecuteTime": {
     "end_time": "2022-07-14T00:23:49.696007Z",
     "start_time": "2022-07-14T00:23:48.773846Z"
    }
   },
   "outputs": [],
   "source": [
    "import numpy as np\n",
    "import math\n",
    "import seaborn as sns\n",
    "import pandas as pd\n",
    "import matplotlib.pyplot as plt\n",
    "from sklearn.linear_model import LogisticRegression\n",
    "from sklearn.model_selection import train_test_split, RandomizedSearchCV, KFold\n",
    "from sklearn.metrics import make_scorer, accuracy_score, f1_score, precision_score, recall_score, roc_curve, auc, roc_auc_score, confusion_matrix, plot_confusion_matrix, ConfusionMatrixDisplay, RocCurveDisplay, classification_report\n",
    "from sklearn.preprocessing import Normalizer, StandardScaler, RobustScaler, MinMaxScaler, OneHotEncoder, LabelEncoder"
   ]
  },
  {
   "cell_type": "markdown",
   "id": "058fb01a",
   "metadata": {},
   "source": [
    "# Pistachio_16"
   ]
  },
  {
   "cell_type": "code",
   "execution_count": null,
   "id": "1e4482c2",
   "metadata": {
    "ExecuteTime": {
     "end_time": "2022-07-14T00:08:31.106590Z",
     "start_time": "2022-07-14T00:08:31.007053Z"
    }
   },
   "outputs": [],
   "source": [
    "data16 = pd.read_excel('Pistachio_16_Features_Dataset\\Pistachio_16_Features_Dataset.xls')"
   ]
  },
  {
   "cell_type": "code",
   "execution_count": 2,
   "id": "787eb27d",
   "metadata": {
    "ExecuteTime": {
     "end_time": "2022-07-14T00:23:54.710177Z",
     "start_time": "2022-07-14T00:23:54.702767Z"
    }
   },
   "outputs": [],
   "source": [
    "labels = ['Kirmizi_Pistachio', 'Siirt_Pistachio']\n",
    "one_hot_encode = lambda x: 0 if x == 'Kirmizi_Pistachio' else 1\n",
    "one_hot_encode_revert = lambda x: labels[x]"
   ]
  },
  {
   "cell_type": "code",
   "execution_count": null,
   "id": "58b672a1",
   "metadata": {
    "ExecuteTime": {
     "end_time": "2022-07-14T00:08:32.555115Z",
     "start_time": "2022-07-14T00:08:32.533997Z"
    }
   },
   "outputs": [],
   "source": [
    "X = data16.drop('Class', axis=1)\n",
    "y = data16['Class']\n",
    "y = y.apply(one_hot_encode)\n",
    "\n",
    "X_train, X_test, y_train, y_test = train_test_split(X, y, stratify=y, test_size=0.2, random_state=123)"
   ]
  },
  {
   "cell_type": "code",
   "execution_count": null,
   "id": "2daa3862",
   "metadata": {
    "ExecuteTime": {
     "end_time": "2022-07-14T00:09:56.560554Z",
     "start_time": "2022-07-14T00:09:55.359955Z"
    }
   },
   "outputs": [],
   "source": [
    "log_reg = LogisticRegression(multi_class='ovr')\n",
    "log_reg.fit(X_train, y_train)\n",
    "y_pred = log_reg.predict(X_test)\n",
    "\n",
    "print(classification_report(y, log_reg.predict(X)))\n",
    "\n",
    "cm = confusion_matrix(y_test, y_pred)\n",
    "display = ConfusionMatrixDisplay(confusion_matrix=cm, display_labels=labels)\n",
    "#plt.savefig(\"cm.png\", dpi=900)\n",
    "display.plot()\n",
    "\n",
    "RocCurveDisplay.from_predictions(y_test, y_pred)\n",
    "sns.set_style('darkgrid')\n",
    "plt.savefig(\"cr.png\", dpi=900)\n",
    "plt.show()\n",
    "sns.set_style('darkgrid')\n",
    "\n",
    "\n",
    "#sns.set_style('darkgrid')#\n",
    "#sns.()\n",
    "\n",
    "# fpr, tpr, thresholds = roc_curve(y_test, y_pred)\n",
    "# roc_curve(log_reg, X_test, y_pred)\n",
    "# plt.title(\"ROC curve\")"
   ]
  },
  {
   "cell_type": "markdown",
   "id": "6b3ec169",
   "metadata": {},
   "source": [
    "# Pistachio_28"
   ]
  },
  {
   "cell_type": "code",
   "execution_count": 3,
   "id": "c45014a0",
   "metadata": {
    "ExecuteTime": {
     "end_time": "2022-07-14T00:23:57.625514Z",
     "start_time": "2022-07-14T00:23:57.514738Z"
    }
   },
   "outputs": [],
   "source": [
    "data28 = pd.read_excel('Pistachio_28_Features_Dataset\\Pistachio_28_Features_Dataset.xls')"
   ]
  },
  {
   "cell_type": "code",
   "execution_count": 4,
   "id": "b8f85dde",
   "metadata": {
    "ExecuteTime": {
     "end_time": "2022-07-14T00:23:57.798427Z",
     "start_time": "2022-07-14T00:23:57.786730Z"
    }
   },
   "outputs": [],
   "source": [
    "X = data28.drop('Class', axis=1)\n",
    "y = data28['Class']\n",
    "y = y.apply(one_hot_encode)\n",
    "\n",
    "X_train, X_test, y_train, y_test = train_test_split(X, y, stratify=y, test_size=0.2, random_state=123)"
   ]
  },
  {
   "cell_type": "code",
   "execution_count": 5,
   "id": "b1b32ab4",
   "metadata": {
    "ExecuteTime": {
     "end_time": "2022-07-14T00:23:59.831149Z",
     "start_time": "2022-07-14T00:23:58.054534Z"
    }
   },
   "outputs": [
    {
     "name": "stderr",
     "output_type": "stream",
     "text": [
      "C:\\Users\\felipe.monteiro\\Anaconda3\\lib\\site-packages\\sklearn\\linear_model\\_logistic.py:814: ConvergenceWarning: lbfgs failed to converge (status=1):\n",
      "STOP: TOTAL NO. of ITERATIONS REACHED LIMIT.\n",
      "\n",
      "Increase the number of iterations (max_iter) or scale the data as shown in:\n",
      "    https://scikit-learn.org/stable/modules/preprocessing.html\n",
      "Please also refer to the documentation for alternative solver options:\n",
      "    https://scikit-learn.org/stable/modules/linear_model.html#logistic-regression\n",
      "  n_iter_i = _check_optimize_result(\n"
     ]
    },
    {
     "name": "stdout",
     "output_type": "stream",
     "text": [
      "              precision    recall  f1-score   support\n",
      "\n",
      "           0       0.89      0.90      0.90      1232\n",
      "           1       0.87      0.85      0.86       916\n",
      "\n",
      "    accuracy                           0.88      2148\n",
      "   macro avg       0.88      0.88      0.88      2148\n",
      "weighted avg       0.88      0.88      0.88      2148\n",
      "\n"
     ]
    },
    {
     "data": {
      "text/plain": [
       "<Figure size 432x288 with 0 Axes>"
      ]
     },
     "metadata": {},
     "output_type": "display_data"
    },
    {
     "data": {
      "image/png": "[encoded data removed]",
      "text/plain": [
       "<Figure size 432x288 with 2 Axes>"
      ]
     },
     "metadata": {
      "needs_background": "light"
     },
     "output_type": "display_data"
    },
    {
     "data": {
      "image/png": "[encoded data removed]",
      "text/plain": [
       "<Figure size 432x288 with 1 Axes>"
      ]
     },
     "metadata": {
      "needs_background": "light"
     },
     "output_type": "display_data"
    }
   ],
   "source": [
    "log_reg = LogisticRegression()\n",
    "log_reg.fit(X_train, y_train)\n",
    "y_pred = log_reg.predict(X_test)\n",
    "\n",
    "print(classification_report(y, log_reg.predict(X)))\n",
    "\n",
    "cm = confusion_matrix(y_test, y_pred)\n",
    "display = ConfusionMatrixDisplay(confusion_matrix=cm, display_labels=labels)\n",
    "plt.savefig(\"cm2.png\", dpi=900)\n",
    "display.plot()\n",
    "\n",
    "RocCurveDisplay.from_predictions(y_test, y_pred)\n",
    "#sns.set_style('darkgrid')\n",
    "plt.savefig(\"cr2.png\", dpi=900)\n",
    "plt.show()\n",
    "\n",
    "\n",
    "# plt.savefig(\"cr.png\", dpi=900)\n",
    "# plt.show()\n",
    "\n",
    "# fpr, tpr, thresholds = roc_curve(y_test, y_pred)\n",
    "# roc_auc = auc(fpr, tpr)\n",
    "# display = RocCurveDisplay(fpr=fpr, tpr=tpr, roc_auc=roc_auc, estimator_name='Logistic Regression')\n",
    "# display.plot()\n",
    "# plt.show()"
   ]
  },
  {
   "cell_type": "code",
   "execution_count": null,
   "id": "757d3f7e",
   "metadata": {},
   "outputs": [],
   "source": []
  }
 ],
 "metadata": {
  "kernelspec": {
   "display_name": "Python 3 (ipykernel)",
   "language": "python",
   "name": "python3"
  },
  "language_info": {
   "codemirror_mode": {
    "name": "ipython",
    "version": 3
   },
   "file_extension": ".py",
   "mimetype": "text/x-python",
   "name": "python",
   "nbconvert_exporter": "python",
   "pygments_lexer": "ipython3",
   "version": "3.9.7"
  },
  "latex_envs": {
   "LaTeX_envs_menu_present": true,
   "autoclose": false,
   "autocomplete": true,
   "bibliofile": "biblio.bib",
   "cite_by": "apalike",
   "current_citInitial": 1,
   "eqLabelWithNumbers": true,
   "eqNumInitial": 1,
   "hotkeys": {
    "equation": "Ctrl-E",
    "itemize": "Ctrl-I"
   },
   "labels_anchors": false,
   "latex_user_defs": false,
   "report_style_numbering": false,
   "user_envs_cfg": false
  }
 },
 "nbformat": 4,
 "nbformat_minor": 5
}
